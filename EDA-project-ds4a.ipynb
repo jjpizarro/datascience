{
  "nbformat": 4,
  "nbformat_minor": 0,
  "metadata": {
    "colab": {
      "name": "projectds4a.ipynb",
      "provenance": [],
      "collapsed_sections": []
    },
    "kernelspec": {
      "name": "python3",
      "display_name": "Python 3"
    }
  },
  "cells": [
    {
      "cell_type": "code",
      "metadata": {
        "id": "BlWCKKle6jYx",
        "outputId": "be04102c-1ae7-4571-d8e9-5c518edb9731",
        "colab": {
          "base_uri": "https://localhost:8080/",
          "height": 867
        }
      },
      "source": [
        "%%time \n",
        "!apt update --quiet\n",
        "!apt upgrade --quiet\n",
        "# GDAL Important library for many geopython libraries\n",
        "!apt install gdal-bin python-gdal python3-gdal --quiet\n",
        "# Install rtree - Geopandas requirment\n",
        "!apt install python3-rtree --quiet\n",
        "# Install Geopandas\n",
        "!pip install git+git://github.com/geopandas/geopandas.git --quiet\n",
        "# Install descartes - Geopandas requirment\n",
        "!pip install descartes --quiet\n",
        "# Install Folium for Geographic data visualization\n",
        "!pip install folium --quiet\n",
        "# Install Pysal\n",
        "!pip install pysal --quiet\n",
        "# Install splot --> pysal\n",
        "!pip install splot --quiet\n",
        "# Install mapclassify\n",
        "!pip install mapclassify --quiet"
      ],
      "execution_count": 1,
      "outputs": [
        {
          "output_type": "stream",
          "text": [
            "Get:1 http://security.ubuntu.com/ubuntu bionic-security InRelease [88.7 kB]\n",
            "Get:2 http://ppa.launchpad.net/c2d4u.team/c2d4u4.0+/ubuntu bionic InRelease [15.9 kB]\n",
            "Hit:3 http://archive.ubuntu.com/ubuntu bionic InRelease\n",
            "Get:4 http://archive.ubuntu.com/ubuntu bionic-updates InRelease [88.7 kB]\n",
            "Hit:5 http://ppa.launchpad.net/graphics-drivers/ppa/ubuntu bionic InRelease\n",
            "Get:6 http://archive.ubuntu.com/ubuntu bionic-backports InRelease [74.6 kB]\n",
            "Ign:7 https://developer.download.nvidia.com/compute/cuda/repos/ubuntu1804/x86_64  InRelease\n",
            "Ign:8 https://developer.download.nvidia.com/compute/machine-learning/repos/ubuntu1804/x86_64  InRelease\n",
            "Hit:9 https://developer.download.nvidia.com/compute/cuda/repos/ubuntu1804/x86_64  Release\n",
            "Hit:10 https://developer.download.nvidia.com/compute/machine-learning/repos/ubuntu1804/x86_64  Release\n",
            "Get:11 http://ppa.launchpad.net/c2d4u.team/c2d4u4.0+/ubuntu bionic/main Sources [1,674 kB]\n",
            "Get:12 http://ppa.launchpad.net/c2d4u.team/c2d4u4.0+/ubuntu bionic/main amd64 Packages [857 kB]\n",
            "Hit:14 https://cloud.r-project.org/bin/linux/ubuntu bionic-cran40/ InRelease\n",
            "Fetched 2,799 kB in 2s (1,599 kB/s)\n",
            "Reading package lists...\n",
            "Building dependency tree...\n",
            "Reading state information...\n",
            "7 packages can be upgraded. Run 'apt list --upgradable' to see them.\n",
            "Reading package lists...\n",
            "Building dependency tree...\n",
            "Reading state information...\n",
            "Calculating upgrade...\n",
            "The following packages have been kept back:\n",
            "  libcublas-dev libcublas10 libcudnn7 libcudnn7-dev libnccl-dev libnccl2\n",
            "The following packages will be upgraded:\n",
            "  r-cran-broom\n",
            "1 upgraded, 0 newly installed, 0 to remove and 6 not upgraded.\n",
            "Need to get 1,655 kB of archives.\n",
            "After this operation, 53.2 kB of additional disk space will be used.\n",
            "Get:1 http://ppa.launchpad.net/c2d4u.team/c2d4u4.0+/ubuntu bionic/main amd64 r-cran-broom all 0.7.1-1cran1.1804.0 [1,655 kB]\n",
            "Fetched 1,655 kB in 0s (13.9 MB/s)\n",
            "(Reading database ... 144706 files and directories currently installed.)\n",
            "Preparing to unpack .../r-cran-broom_0.7.1-1cran1.1804.0_all.deb ...\n",
            "Unpacking r-cran-broom (0.7.1-1cran1.1804.0) over (0.7.0-1cran1.1804.0) ...\n",
            "Setting up r-cran-broom (0.7.1-1cran1.1804.0) ...\n",
            "Reading package lists...\n",
            "Building dependency tree...\n",
            "Reading state information...\n",
            "gdal-bin is already the newest version (2.2.3+dfsg-2).\n",
            "python-gdal is already the newest version (2.2.3+dfsg-2).\n",
            "python3-gdal is already the newest version (2.2.3+dfsg-2).\n",
            "0 upgraded, 0 newly installed, 0 to remove and 6 not upgraded.\n",
            "Reading package lists...\n",
            "Building dependency tree...\n",
            "Reading state information...\n",
            "python3-rtree is already the newest version (0.8.3+ds-1).\n",
            "0 upgraded, 0 newly installed, 0 to remove and 6 not upgraded.\n",
            "  Building wheel for geopandas (setup.py) ... \u001b[?25l\u001b[?25hdone\n",
            "CPU times: user 143 ms, sys: 89.7 ms, total: 232 ms\n",
            "Wall time: 32.3 s\n"
          ],
          "name": "stdout"
        }
      ]
    },
    {
      "cell_type": "code",
      "metadata": {
        "id": "JjLWMqgXoj7u",
        "outputId": "b2b9b277-c079-4971-fc66-9e5221cc884d",
        "colab": {
          "base_uri": "https://localhost:8080/",
          "height": 71
        }
      },
      "source": [
        "#import pandas as pd\n",
        "#import pandas.io.sql as sqlio\n",
        "#import psycopg2\n",
        "#import numpy as np\n",
        "i#mport matplotlib\n",
        "#import matplotlib.pyplot as plt\n",
        "#import seaborn as sns\n",
        "#import missingno\n",
        "#import folium \n",
        "#from folium import plugins\n",
        "#from folium.plugins import HeatMap\n",
        "#from geopy.geocoders import Nominatim\n",
        "#%matplotlib inline"
      ],
      "execution_count": null,
      "outputs": [
        {
          "output_type": "stream",
          "text": [
            "/usr/local/lib/python3.6/dist-packages/psycopg2/__init__.py:144: UserWarning: The psycopg2 wheel package will be renamed from release 2.8; in order to keep installing from binary please use \"pip install psycopg2-binary\" instead. For details see: <http://initd.org/psycopg/docs/install.html#binary-install-from-pypi>.\n",
            "  \"\"\")\n"
          ],
          "name": "stderr"
        }
      ]
    },
    {
      "cell_type": "code",
      "metadata": {
        "id": "kik93pNLWnHo",
        "outputId": "4e86a3d4-ae6d-4947-9cc9-70e762aab2e0",
        "colab": {
          "base_uri": "https://localhost:8080/",
          "height": 204
        }
      },
      "source": [
        "!pip install geocoder"
      ],
      "execution_count": 2,
      "outputs": [
        {
          "output_type": "stream",
          "text": [
            "Requirement already satisfied: geocoder in /usr/local/lib/python3.6/dist-packages (1.38.1)\n",
            "Requirement already satisfied: six in /usr/local/lib/python3.6/dist-packages (from geocoder) (1.15.0)\n",
            "Requirement already satisfied: requests in /usr/local/lib/python3.6/dist-packages (from geocoder) (2.23.0)\n",
            "Requirement already satisfied: ratelim in /usr/local/lib/python3.6/dist-packages (from geocoder) (0.1.6)\n",
            "Requirement already satisfied: click in /usr/local/lib/python3.6/dist-packages (from geocoder) (7.1.2)\n",
            "Requirement already satisfied: future in /usr/local/lib/python3.6/dist-packages (from geocoder) (0.16.0)\n",
            "Requirement already satisfied: chardet<4,>=3.0.2 in /usr/local/lib/python3.6/dist-packages (from requests->geocoder) (3.0.4)\n",
            "Requirement already satisfied: urllib3!=1.25.0,!=1.25.1,<1.26,>=1.21.1 in /usr/local/lib/python3.6/dist-packages (from requests->geocoder) (1.24.3)\n",
            "Requirement already satisfied: certifi>=2017.4.17 in /usr/local/lib/python3.6/dist-packages (from requests->geocoder) (2020.6.20)\n",
            "Requirement already satisfied: idna<3,>=2.5 in /usr/local/lib/python3.6/dist-packages (from requests->geocoder) (2.10)\n",
            "Requirement already satisfied: decorator in /usr/local/lib/python3.6/dist-packages (from ratelim->geocoder) (4.4.2)\n"
          ],
          "name": "stdout"
        }
      ]
    },
    {
      "cell_type": "code",
      "metadata": {
        "id": "Q_rxQ3_f63Pa",
        "outputId": "8b31e03a-4972-4117-82dc-b482b9af67da",
        "colab": {
          "base_uri": "https://localhost:8080/",
          "height": 71
        }
      },
      "source": [
        "import pandas as pd\n",
        "import pandas.io.sql as sqlio\n",
        "import psycopg2\n",
        "import numpy as np\n",
        "import geopandas as gpd\n",
        "from shapely.geometry import Point\n",
        "from pysal.explore import esda\n",
        "from pysal.lib import weights\n",
        "#import libysal as lps\n",
        "#from pysal.viz.splot.esda import plot_moran, plot_local_autocorrelation, lisa_cluster\n",
        "import matplotlib\n",
        "import matplotlib.pyplot as plt \n",
        "\n",
        "import folium\n",
        "from folium import plugins\n",
        "from folium.plugins import HeatMap\n",
        "\n",
        "import os\n",
        "import seaborn as sns\n",
        "#from sklearn.cluster import KMeans\n",
        "from sklearn.cluster import dbscan\n",
        "\n",
        "from libpysal.weights.contiguity import Queen\n",
        "from esda.moran import Moran\n",
        "from splot.esda import moran_scatterplot\n",
        "from esda.moran import Moran_Local\n",
        "from splot.esda import lisa_cluster\n",
        "\n",
        "import pysal as ps\n",
        "ps.__version__\n",
        "\n",
        "import missingno\n",
        "from geopy.geocoders import Nominatim\n",
        "\n",
        "from geopandas.tools import geocode\n",
        "import geocoder"
      ],
      "execution_count": 2,
      "outputs": [
        {
          "output_type": "stream",
          "text": [
            "/usr/local/lib/python3.6/dist-packages/psycopg2/__init__.py:144: UserWarning: The psycopg2 wheel package will be renamed from release 2.8; in order to keep installing from binary please use \"pip install psycopg2-binary\" instead. For details see: <http://initd.org/psycopg/docs/install.html#binary-install-from-pypi>.\n",
            "  \"\"\")\n"
          ],
          "name": "stderr"
        }
      ]
    },
    {
      "cell_type": "code",
      "metadata": {
        "id": "QQU1uQ-W7nWR"
      },
      "source": [
        "%matplotlib inline"
      ],
      "execution_count": 5,
      "outputs": []
    },
    {
      "cell_type": "code",
      "metadata": {
        "id": "4Y-uOLZ_o4q_",
        "outputId": "64557ee1-4943-4912-ee90-acc3e44b4449",
        "colab": {
          "base_uri": "https://localhost:8080/",
          "height": 511
        }
      },
      "source": [
        "username=\"taxisrcp_user\"\n",
        "password=\"123123123\"\n",
        "host=\"ds4ataxisrcp.col3gdd6vsxk.us-east-2.rds.amazonaws.com\"\n",
        "port=\"5432\"\n",
        "dbname=\"taxisrcp_db\"\n",
        "try:\n",
        "    connection = psycopg2.connect(\"host='{}' port={} dbname='{}' user={} password={}\".format(host, port, dbname, username, password))\n",
        "    sql = '''select s.id, s.creado fecha, \n",
        "              tp.parametro estado, \n",
        "              s.tipo_servicio,\n",
        "              dir.numero directorio,\n",
        "              direc.direccion_completa direccion,\n",
        "              direc.latitud,\n",
        "              direc.longitud,\n",
        "              b.barrio,\n",
        "              p.nombres,\n",
        "              p.genero\n",
        "            from mastermind_solicitud s \n",
        "            inner join parametrizacion_tipoparametro tp on s.status_id = tp.id\n",
        "            left join administracion_directorio dir on s.directorio_id=dir.id\n",
        "            left join administracion_perfil p on dir.perfil_id=p.id\n",
        "            left join administracion_direccion direc on dir.direccion_id = direc.id::integer\n",
        "            left join administracion_barrio b on direc.barrio_id::integer = b.id'''   \n",
        "    df = sqlio.read_sql_query(sql, connection)\n",
        "    #sql = \"select * from administracion_directorio\"\n",
        "    #df_directorio = sqlio.read_sql_query(sql, connection)\n",
        "\n",
        "except (Exception, psycopg2.Error) as error :\n",
        "    print (\"Error while fetching data from PostgreSQL\", error)\n",
        "\n",
        "finally:\n",
        "    #closing database connection.\n",
        "    if(connection):\n",
        "        connection.close()\n",
        "        print(\"PostgreSQL connection is closed\")"
      ],
      "execution_count": 6,
      "outputs": [
        {
          "output_type": "error",
          "ename": "NameError",
          "evalue": "ignored",
          "traceback": [
            "\u001b[0;31m---------------------------------------------------------------------------\u001b[0m",
            "\u001b[0;31mNameError\u001b[0m                                 Traceback (most recent call last)",
            "\u001b[0;32m<ipython-input-6-94c3676e6d56>\u001b[0m in \u001b[0;36m<module>\u001b[0;34m()\u001b[0m\n\u001b[1;32m      6\u001b[0m \u001b[0;32mtry\u001b[0m\u001b[0;34m:\u001b[0m\u001b[0;34m\u001b[0m\u001b[0;34m\u001b[0m\u001b[0m\n\u001b[0;32m----> 7\u001b[0;31m     \u001b[0mconnection\u001b[0m \u001b[0;34m=\u001b[0m \u001b[0mpsycopg2\u001b[0m\u001b[0;34m.\u001b[0m\u001b[0mconnect\u001b[0m\u001b[0;34m(\u001b[0m\u001b[0;34m\"host='{}' port={} dbname='{}' user={} password={}\"\u001b[0m\u001b[0;34m.\u001b[0m\u001b[0mformat\u001b[0m\u001b[0;34m(\u001b[0m\u001b[0mhost\u001b[0m\u001b[0;34m,\u001b[0m \u001b[0mport\u001b[0m\u001b[0;34m,\u001b[0m \u001b[0mdbname\u001b[0m\u001b[0;34m,\u001b[0m \u001b[0musername\u001b[0m\u001b[0;34m,\u001b[0m \u001b[0mpassword\u001b[0m\u001b[0;34m)\u001b[0m\u001b[0;34m)\u001b[0m\u001b[0;34m\u001b[0m\u001b[0;34m\u001b[0m\u001b[0m\n\u001b[0m\u001b[1;32m      8\u001b[0m     sql = '''select s.id, s.creado fecha, \n",
            "\u001b[0;31mNameError\u001b[0m: name 'psycopg2' is not defined",
            "\nDuring handling of the above exception, another exception occurred:\n",
            "\u001b[0;31mNameError\u001b[0m                                 Traceback (most recent call last)",
            "\u001b[0;32m<ipython-input-6-94c3676e6d56>\u001b[0m in \u001b[0;36m<module>\u001b[0;34m()\u001b[0m\n\u001b[1;32m     27\u001b[0m \u001b[0;34m\u001b[0m\u001b[0m\n\u001b[0;32m---> 28\u001b[0;31m \u001b[0;32mexcept\u001b[0m \u001b[0;34m(\u001b[0m\u001b[0mException\u001b[0m\u001b[0;34m,\u001b[0m \u001b[0mpsycopg2\u001b[0m\u001b[0;34m.\u001b[0m\u001b[0mError\u001b[0m\u001b[0;34m)\u001b[0m \u001b[0;32mas\u001b[0m \u001b[0merror\u001b[0m \u001b[0;34m:\u001b[0m\u001b[0;34m\u001b[0m\u001b[0;34m\u001b[0m\u001b[0m\n\u001b[0m\u001b[1;32m     29\u001b[0m     \u001b[0mprint\u001b[0m \u001b[0;34m(\u001b[0m\u001b[0;34m\"Error while fetching data from PostgreSQL\"\u001b[0m\u001b[0;34m,\u001b[0m \u001b[0merror\u001b[0m\u001b[0;34m)\u001b[0m\u001b[0;34m\u001b[0m\u001b[0;34m\u001b[0m\u001b[0m\n",
            "\u001b[0;31mNameError\u001b[0m: name 'psycopg2' is not defined",
            "\nDuring handling of the above exception, another exception occurred:\n",
            "\u001b[0;31mNameError\u001b[0m                                 Traceback (most recent call last)",
            "\u001b[0;32m<ipython-input-6-94c3676e6d56>\u001b[0m in \u001b[0;36m<module>\u001b[0;34m()\u001b[0m\n\u001b[1;32m     31\u001b[0m \u001b[0;32mfinally\u001b[0m\u001b[0;34m:\u001b[0m\u001b[0;34m\u001b[0m\u001b[0;34m\u001b[0m\u001b[0m\n\u001b[1;32m     32\u001b[0m     \u001b[0;31m#closing database connection.\u001b[0m\u001b[0;34m\u001b[0m\u001b[0;34m\u001b[0m\u001b[0;34m\u001b[0m\u001b[0m\n\u001b[0;32m---> 33\u001b[0;31m     \u001b[0;32mif\u001b[0m\u001b[0;34m(\u001b[0m\u001b[0mconnection\u001b[0m\u001b[0;34m)\u001b[0m\u001b[0;34m:\u001b[0m\u001b[0;34m\u001b[0m\u001b[0;34m\u001b[0m\u001b[0m\n\u001b[0m\u001b[1;32m     34\u001b[0m         \u001b[0mconnection\u001b[0m\u001b[0;34m.\u001b[0m\u001b[0mclose\u001b[0m\u001b[0;34m(\u001b[0m\u001b[0;34m)\u001b[0m\u001b[0;34m\u001b[0m\u001b[0;34m\u001b[0m\u001b[0m\n\u001b[1;32m     35\u001b[0m         \u001b[0mprint\u001b[0m\u001b[0;34m(\u001b[0m\u001b[0;34m\"PostgreSQL connection is closed\"\u001b[0m\u001b[0;34m)\u001b[0m\u001b[0;34m\u001b[0m\u001b[0;34m\u001b[0m\u001b[0m\n",
            "\u001b[0;31mNameError\u001b[0m: name 'connection' is not defined"
          ]
        }
      ]
    },
    {
      "cell_type": "code",
      "metadata": {
        "id": "BKYM7I1OqMxN"
      },
      "source": [
        "df_taxisrcp = pd.DataFrame(df)"
      ],
      "execution_count": 5,
      "outputs": []
    },
    {
      "cell_type": "code",
      "metadata": {
        "id": "Hdh9CgjcTm8y",
        "outputId": "89644e07-e60f-40cd-f618-cb5efd2ae97f",
        "colab": {
          "base_uri": "https://localhost:8080/",
          "height": 589
        }
      },
      "source": [
        "df_taxisrcp"
      ],
      "execution_count": 6,
      "outputs": [
        {
          "output_type": "execute_result",
          "data": {
            "text/html": [
              "<div>\n",
              "<style scoped>\n",
              "    .dataframe tbody tr th:only-of-type {\n",
              "        vertical-align: middle;\n",
              "    }\n",
              "\n",
              "    .dataframe tbody tr th {\n",
              "        vertical-align: top;\n",
              "    }\n",
              "\n",
              "    .dataframe thead th {\n",
              "        text-align: right;\n",
              "    }\n",
              "</style>\n",
              "<table border=\"1\" class=\"dataframe\">\n",
              "  <thead>\n",
              "    <tr style=\"text-align: right;\">\n",
              "      <th></th>\n",
              "      <th>id</th>\n",
              "      <th>fecha</th>\n",
              "      <th>estado</th>\n",
              "      <th>tipo_servicio</th>\n",
              "      <th>directorio</th>\n",
              "      <th>direccion</th>\n",
              "      <th>latitud</th>\n",
              "      <th>longitud</th>\n",
              "      <th>barrio</th>\n",
              "      <th>nombres</th>\n",
              "      <th>genero</th>\n",
              "    </tr>\n",
              "  </thead>\n",
              "  <tbody>\n",
              "    <tr>\n",
              "      <th>0</th>\n",
              "      <td>1684494</td>\n",
              "      <td>2019-06-15</td>\n",
              "      <td>Confirmada fuera de tiempo</td>\n",
              "      <td>SC</td>\n",
              "      <td>1342</td>\n",
              "      <td>Calle 16 # 37 - 47 Las Margaritas</td>\n",
              "      <td>1.2203757</td>\n",
              "      <td>-77.28633259999998</td>\n",
              "      <td>Las Margaritas</td>\n",
              "      <td>None</td>\n",
              "      <td>None</td>\n",
              "    </tr>\n",
              "    <tr>\n",
              "      <th>1</th>\n",
              "      <td>1684511</td>\n",
              "      <td>2019-06-15</td>\n",
              "      <td>Confirmada</td>\n",
              "      <td>SC</td>\n",
              "      <td>1024</td>\n",
              "      <td>TORRES DE MARILUZ</td>\n",
              "      <td>None</td>\n",
              "      <td>None</td>\n",
              "      <td>Mariluz  III</td>\n",
              "      <td>None</td>\n",
              "      <td>None</td>\n",
              "    </tr>\n",
              "    <tr>\n",
              "      <th>2</th>\n",
              "      <td>1684513</td>\n",
              "      <td>2019-06-15</td>\n",
              "      <td>Confirmada fuera de tiempo</td>\n",
              "      <td>SC</td>\n",
              "      <td>7293074</td>\n",
              "      <td>miravalle</td>\n",
              "      <td>None</td>\n",
              "      <td>None</td>\n",
              "      <td>None</td>\n",
              "      <td>None</td>\n",
              "      <td>None</td>\n",
              "    </tr>\n",
              "    <tr>\n",
              "      <th>3</th>\n",
              "      <td>1684520</td>\n",
              "      <td>2019-06-15</td>\n",
              "      <td>Confirmada fuera de tiempo</td>\n",
              "      <td>SC</td>\n",
              "      <td>3013488266</td>\n",
              "      <td>Carrera 24  13 54 santiago</td>\n",
              "      <td>None</td>\n",
              "      <td>None</td>\n",
              "      <td>None</td>\n",
              "      <td>None</td>\n",
              "      <td>None</td>\n",
              "    </tr>\n",
              "    <tr>\n",
              "      <th>4</th>\n",
              "      <td>1684525</td>\n",
              "      <td>2019-06-15</td>\n",
              "      <td>Confirmada fuera de tiempo</td>\n",
              "      <td>SC</td>\n",
              "      <td>1011</td>\n",
              "      <td>KR 35  19 10 HABITAR VERSALLES</td>\n",
              "      <td>None</td>\n",
              "      <td>None</td>\n",
              "      <td>Versalles</td>\n",
              "      <td>None</td>\n",
              "      <td>None</td>\n",
              "    </tr>\n",
              "    <tr>\n",
              "      <th>...</th>\n",
              "      <td>...</td>\n",
              "      <td>...</td>\n",
              "      <td>...</td>\n",
              "      <td>...</td>\n",
              "      <td>...</td>\n",
              "      <td>...</td>\n",
              "      <td>...</td>\n",
              "      <td>...</td>\n",
              "      <td>...</td>\n",
              "      <td>...</td>\n",
              "      <td>...</td>\n",
              "    </tr>\n",
              "    <tr>\n",
              "      <th>2436910</th>\n",
              "      <td>1684278</td>\n",
              "      <td>2019-06-15</td>\n",
              "      <td>Confirmada fuera de tiempo</td>\n",
              "      <td>SC</td>\n",
              "      <td>3177203316</td>\n",
              "      <td>CANCHALA</td>\n",
              "      <td>None</td>\n",
              "      <td>None</td>\n",
              "      <td>None</td>\n",
              "      <td>None</td>\n",
              "      <td>None</td>\n",
              "    </tr>\n",
              "    <tr>\n",
              "      <th>2436911</th>\n",
              "      <td>1684341</td>\n",
              "      <td>2019-06-15</td>\n",
              "      <td>Confirmada fuera de tiempo</td>\n",
              "      <td>SC</td>\n",
              "      <td>3165780828</td>\n",
              "      <td>Carrera 18 13a 24</td>\n",
              "      <td>None</td>\n",
              "      <td>None</td>\n",
              "      <td>None</td>\n",
              "      <td>None</td>\n",
              "      <td>None</td>\n",
              "    </tr>\n",
              "    <tr>\n",
              "      <th>2436912</th>\n",
              "      <td>1684398</td>\n",
              "      <td>2019-06-15</td>\n",
              "      <td>Confirmada fuera de tiempo</td>\n",
              "      <td>SC</td>\n",
              "      <td>3013922758</td>\n",
              "      <td>KRA  41  9  25   M/3</td>\n",
              "      <td>None</td>\n",
              "      <td>None</td>\n",
              "      <td>None</td>\n",
              "      <td>None</td>\n",
              "      <td>None</td>\n",
              "    </tr>\n",
              "    <tr>\n",
              "      <th>2436913</th>\n",
              "      <td>1684449</td>\n",
              "      <td>2019-06-15</td>\n",
              "      <td>Confirmada fuera de tiempo</td>\n",
              "      <td>SC</td>\n",
              "      <td>3015410836</td>\n",
              "      <td>Calle 19 # 17b - 58</td>\n",
              "      <td>None</td>\n",
              "      <td>None</td>\n",
              "      <td>None</td>\n",
              "      <td>None</td>\n",
              "      <td>None</td>\n",
              "    </tr>\n",
              "    <tr>\n",
              "      <th>2436914</th>\n",
              "      <td>1684482</td>\n",
              "      <td>2019-06-15</td>\n",
              "      <td>Confirmada fuera de tiempo</td>\n",
              "      <td>SC</td>\n",
              "      <td>3165187982</td>\n",
              "      <td>Calle 12 # 32 - 56 La aurora</td>\n",
              "      <td>None</td>\n",
              "      <td>None</td>\n",
              "      <td>None</td>\n",
              "      <td>None</td>\n",
              "      <td>None</td>\n",
              "    </tr>\n",
              "  </tbody>\n",
              "</table>\n",
              "<p>2436915 rows × 11 columns</p>\n",
              "</div>"
            ],
            "text/plain": [
              "              id       fecha  ... nombres genero\n",
              "0        1684494  2019-06-15  ...    None   None\n",
              "1        1684511  2019-06-15  ...    None   None\n",
              "2        1684513  2019-06-15  ...    None   None\n",
              "3        1684520  2019-06-15  ...    None   None\n",
              "4        1684525  2019-06-15  ...    None   None\n",
              "...          ...         ...  ...     ...    ...\n",
              "2436910  1684278  2019-06-15  ...    None   None\n",
              "2436911  1684341  2019-06-15  ...    None   None\n",
              "2436912  1684398  2019-06-15  ...    None   None\n",
              "2436913  1684449  2019-06-15  ...    None   None\n",
              "2436914  1684482  2019-06-15  ...    None   None\n",
              "\n",
              "[2436915 rows x 11 columns]"
            ]
          },
          "metadata": {
            "tags": []
          },
          "execution_count": 6
        }
      ]
    },
    {
      "cell_type": "code",
      "metadata": {
        "id": "kpo7mPvvbB5G"
      },
      "source": [
        "df_taxisrcp.replace('nan',np.NaN,inplace=True)"
      ],
      "execution_count": 9,
      "outputs": []
    },
    {
      "cell_type": "code",
      "metadata": {
        "id": "lYayX-FIF51J",
        "outputId": "0ac6dc68-0e0e-4790-b99b-eeca330cab15",
        "colab": {
          "base_uri": "https://localhost:8080/",
          "height": 510
        }
      },
      "source": [
        "df_taxisrcp.info()\n",
        "df_taxisrcp.head()"
      ],
      "execution_count": 7,
      "outputs": [
        {
          "output_type": "stream",
          "text": [
            "<class 'pandas.core.frame.DataFrame'>\n",
            "RangeIndex: 2436915 entries, 0 to 2436914\n",
            "Data columns (total 11 columns):\n",
            " #   Column         Dtype \n",
            "---  ------         ----- \n",
            " 0   id             int64 \n",
            " 1   fecha          object\n",
            " 2   estado         object\n",
            " 3   tipo_servicio  object\n",
            " 4   directorio     object\n",
            " 5   direccion      object\n",
            " 6   latitud        object\n",
            " 7   longitud       object\n",
            " 8   barrio         object\n",
            " 9   nombres        object\n",
            " 10  genero         object\n",
            "dtypes: int64(1), object(10)\n",
            "memory usage: 204.5+ MB\n"
          ],
          "name": "stdout"
        },
        {
          "output_type": "execute_result",
          "data": {
            "text/html": [
              "<div>\n",
              "<style scoped>\n",
              "    .dataframe tbody tr th:only-of-type {\n",
              "        vertical-align: middle;\n",
              "    }\n",
              "\n",
              "    .dataframe tbody tr th {\n",
              "        vertical-align: top;\n",
              "    }\n",
              "\n",
              "    .dataframe thead th {\n",
              "        text-align: right;\n",
              "    }\n",
              "</style>\n",
              "<table border=\"1\" class=\"dataframe\">\n",
              "  <thead>\n",
              "    <tr style=\"text-align: right;\">\n",
              "      <th></th>\n",
              "      <th>id</th>\n",
              "      <th>fecha</th>\n",
              "      <th>estado</th>\n",
              "      <th>tipo_servicio</th>\n",
              "      <th>directorio</th>\n",
              "      <th>direccion</th>\n",
              "      <th>latitud</th>\n",
              "      <th>longitud</th>\n",
              "      <th>barrio</th>\n",
              "      <th>nombres</th>\n",
              "      <th>genero</th>\n",
              "    </tr>\n",
              "  </thead>\n",
              "  <tbody>\n",
              "    <tr>\n",
              "      <th>0</th>\n",
              "      <td>1684494</td>\n",
              "      <td>2019-06-15</td>\n",
              "      <td>Confirmada fuera de tiempo</td>\n",
              "      <td>SC</td>\n",
              "      <td>1342</td>\n",
              "      <td>Calle 16 # 37 - 47 Las Margaritas</td>\n",
              "      <td>1.2203757</td>\n",
              "      <td>-77.28633259999998</td>\n",
              "      <td>Las Margaritas</td>\n",
              "      <td>None</td>\n",
              "      <td>None</td>\n",
              "    </tr>\n",
              "    <tr>\n",
              "      <th>1</th>\n",
              "      <td>1684511</td>\n",
              "      <td>2019-06-15</td>\n",
              "      <td>Confirmada</td>\n",
              "      <td>SC</td>\n",
              "      <td>1024</td>\n",
              "      <td>TORRES DE MARILUZ</td>\n",
              "      <td>None</td>\n",
              "      <td>None</td>\n",
              "      <td>Mariluz  III</td>\n",
              "      <td>None</td>\n",
              "      <td>None</td>\n",
              "    </tr>\n",
              "    <tr>\n",
              "      <th>2</th>\n",
              "      <td>1684513</td>\n",
              "      <td>2019-06-15</td>\n",
              "      <td>Confirmada fuera de tiempo</td>\n",
              "      <td>SC</td>\n",
              "      <td>7293074</td>\n",
              "      <td>miravalle</td>\n",
              "      <td>None</td>\n",
              "      <td>None</td>\n",
              "      <td>None</td>\n",
              "      <td>None</td>\n",
              "      <td>None</td>\n",
              "    </tr>\n",
              "    <tr>\n",
              "      <th>3</th>\n",
              "      <td>1684520</td>\n",
              "      <td>2019-06-15</td>\n",
              "      <td>Confirmada fuera de tiempo</td>\n",
              "      <td>SC</td>\n",
              "      <td>3013488266</td>\n",
              "      <td>Carrera 24  13 54 santiago</td>\n",
              "      <td>None</td>\n",
              "      <td>None</td>\n",
              "      <td>None</td>\n",
              "      <td>None</td>\n",
              "      <td>None</td>\n",
              "    </tr>\n",
              "    <tr>\n",
              "      <th>4</th>\n",
              "      <td>1684525</td>\n",
              "      <td>2019-06-15</td>\n",
              "      <td>Confirmada fuera de tiempo</td>\n",
              "      <td>SC</td>\n",
              "      <td>1011</td>\n",
              "      <td>KR 35  19 10 HABITAR VERSALLES</td>\n",
              "      <td>None</td>\n",
              "      <td>None</td>\n",
              "      <td>Versalles</td>\n",
              "      <td>None</td>\n",
              "      <td>None</td>\n",
              "    </tr>\n",
              "  </tbody>\n",
              "</table>\n",
              "</div>"
            ],
            "text/plain": [
              "        id       fecha  ... nombres genero\n",
              "0  1684494  2019-06-15  ...    None   None\n",
              "1  1684511  2019-06-15  ...    None   None\n",
              "2  1684513  2019-06-15  ...    None   None\n",
              "3  1684520  2019-06-15  ...    None   None\n",
              "4  1684525  2019-06-15  ...    None   None\n",
              "\n",
              "[5 rows x 11 columns]"
            ]
          },
          "metadata": {
            "tags": []
          },
          "execution_count": 7
        }
      ]
    },
    {
      "cell_type": "markdown",
      "metadata": {
        "id": "KjNk2hpHW5Hu"
      },
      "source": [
        "The output shows that we have around 2.4 million entries with 10 columns. There are some columns with null values. The data type of columns have the same type so we need to to set up the correct data type."
      ]
    },
    {
      "cell_type": "markdown",
      "metadata": {
        "id": "CYTN1Bga_aNX"
      },
      "source": [
        "# **Setting the data types correctly**"
      ]
    },
    {
      "cell_type": "code",
      "metadata": {
        "id": "0E1L8Rch_OKP"
      },
      "source": [
        "df_taxisrcp['fecha'] = pd.to_datetime(df_taxisrcp['fecha'])\n",
        "df_taxisrcp['estado'] = df_taxisrcp['estado'].astype('category')\n",
        "df_taxisrcp['tipo_servicio'] = df_taxisrcp['tipo_servicio'].astype('category')\n",
        "df_taxisrcp['latitud'] = df_taxisrcp['latitud'].astype('float64')\n",
        "df_taxisrcp['longitud'] = df_taxisrcp['longitud'].astype('float64')\n",
        "df_taxisrcp['genero'] = df_taxisrcp['genero'].astype('category')"
      ],
      "execution_count": 8,
      "outputs": []
    },
    {
      "cell_type": "code",
      "metadata": {
        "id": "ah5JPV85_vKc",
        "outputId": "18282f18-cfd3-4017-85b1-31359b22c655",
        "colab": {
          "base_uri": "https://localhost:8080/",
          "height": 510
        }
      },
      "source": [
        "df_taxisrcp.info()\n",
        "df_taxisrcp.head()"
      ],
      "execution_count": 9,
      "outputs": [
        {
          "output_type": "stream",
          "text": [
            "<class 'pandas.core.frame.DataFrame'>\n",
            "RangeIndex: 2436915 entries, 0 to 2436914\n",
            "Data columns (total 11 columns):\n",
            " #   Column         Dtype         \n",
            "---  ------         -----         \n",
            " 0   id             int64         \n",
            " 1   fecha          datetime64[ns]\n",
            " 2   estado         category      \n",
            " 3   tipo_servicio  category      \n",
            " 4   directorio     object        \n",
            " 5   direccion      object        \n",
            " 6   latitud        float64       \n",
            " 7   longitud       float64       \n",
            " 8   barrio         object        \n",
            " 9   nombres        object        \n",
            " 10  genero         category      \n",
            "dtypes: category(3), datetime64[ns](1), float64(2), int64(1), object(4)\n",
            "memory usage: 155.7+ MB\n"
          ],
          "name": "stdout"
        },
        {
          "output_type": "execute_result",
          "data": {
            "text/html": [
              "<div>\n",
              "<style scoped>\n",
              "    .dataframe tbody tr th:only-of-type {\n",
              "        vertical-align: middle;\n",
              "    }\n",
              "\n",
              "    .dataframe tbody tr th {\n",
              "        vertical-align: top;\n",
              "    }\n",
              "\n",
              "    .dataframe thead th {\n",
              "        text-align: right;\n",
              "    }\n",
              "</style>\n",
              "<table border=\"1\" class=\"dataframe\">\n",
              "  <thead>\n",
              "    <tr style=\"text-align: right;\">\n",
              "      <th></th>\n",
              "      <th>id</th>\n",
              "      <th>fecha</th>\n",
              "      <th>estado</th>\n",
              "      <th>tipo_servicio</th>\n",
              "      <th>directorio</th>\n",
              "      <th>direccion</th>\n",
              "      <th>latitud</th>\n",
              "      <th>longitud</th>\n",
              "      <th>barrio</th>\n",
              "      <th>nombres</th>\n",
              "      <th>genero</th>\n",
              "    </tr>\n",
              "  </thead>\n",
              "  <tbody>\n",
              "    <tr>\n",
              "      <th>0</th>\n",
              "      <td>1684494</td>\n",
              "      <td>2019-06-15</td>\n",
              "      <td>Confirmada fuera de tiempo</td>\n",
              "      <td>SC</td>\n",
              "      <td>1342</td>\n",
              "      <td>Calle 16 # 37 - 47 Las Margaritas</td>\n",
              "      <td>1.220376</td>\n",
              "      <td>-77.286333</td>\n",
              "      <td>Las Margaritas</td>\n",
              "      <td>None</td>\n",
              "      <td>NaN</td>\n",
              "    </tr>\n",
              "    <tr>\n",
              "      <th>1</th>\n",
              "      <td>1684511</td>\n",
              "      <td>2019-06-15</td>\n",
              "      <td>Confirmada</td>\n",
              "      <td>SC</td>\n",
              "      <td>1024</td>\n",
              "      <td>TORRES DE MARILUZ</td>\n",
              "      <td>NaN</td>\n",
              "      <td>NaN</td>\n",
              "      <td>Mariluz  III</td>\n",
              "      <td>None</td>\n",
              "      <td>NaN</td>\n",
              "    </tr>\n",
              "    <tr>\n",
              "      <th>2</th>\n",
              "      <td>1684513</td>\n",
              "      <td>2019-06-15</td>\n",
              "      <td>Confirmada fuera de tiempo</td>\n",
              "      <td>SC</td>\n",
              "      <td>7293074</td>\n",
              "      <td>miravalle</td>\n",
              "      <td>NaN</td>\n",
              "      <td>NaN</td>\n",
              "      <td>None</td>\n",
              "      <td>None</td>\n",
              "      <td>NaN</td>\n",
              "    </tr>\n",
              "    <tr>\n",
              "      <th>3</th>\n",
              "      <td>1684520</td>\n",
              "      <td>2019-06-15</td>\n",
              "      <td>Confirmada fuera de tiempo</td>\n",
              "      <td>SC</td>\n",
              "      <td>3013488266</td>\n",
              "      <td>Carrera 24  13 54 santiago</td>\n",
              "      <td>NaN</td>\n",
              "      <td>NaN</td>\n",
              "      <td>None</td>\n",
              "      <td>None</td>\n",
              "      <td>NaN</td>\n",
              "    </tr>\n",
              "    <tr>\n",
              "      <th>4</th>\n",
              "      <td>1684525</td>\n",
              "      <td>2019-06-15</td>\n",
              "      <td>Confirmada fuera de tiempo</td>\n",
              "      <td>SC</td>\n",
              "      <td>1011</td>\n",
              "      <td>KR 35  19 10 HABITAR VERSALLES</td>\n",
              "      <td>NaN</td>\n",
              "      <td>NaN</td>\n",
              "      <td>Versalles</td>\n",
              "      <td>None</td>\n",
              "      <td>NaN</td>\n",
              "    </tr>\n",
              "  </tbody>\n",
              "</table>\n",
              "</div>"
            ],
            "text/plain": [
              "        id      fecha  ... nombres genero\n",
              "0  1684494 2019-06-15  ...    None    NaN\n",
              "1  1684511 2019-06-15  ...    None    NaN\n",
              "2  1684513 2019-06-15  ...    None    NaN\n",
              "3  1684520 2019-06-15  ...    None    NaN\n",
              "4  1684525 2019-06-15  ...    None    NaN\n",
              "\n",
              "[5 rows x 11 columns]"
            ]
          },
          "metadata": {
            "tags": []
          },
          "execution_count": 9
        }
      ]
    },
    {
      "cell_type": "markdown",
      "metadata": {
        "id": "Qp5bdM7UgkX3"
      },
      "source": [
        "# **Missing values and Duplicated Entries**"
      ]
    },
    {
      "cell_type": "code",
      "metadata": {
        "id": "Zi70MnyMtlDy",
        "outputId": "dbd02154-e126-46a9-9fa9-812788a1b73d",
        "colab": {
          "base_uri": "https://localhost:8080/",
          "height": 221
        }
      },
      "source": [
        "df_taxisrcp.isna().sum()"
      ],
      "execution_count": 10,
      "outputs": [
        {
          "output_type": "execute_result",
          "data": {
            "text/plain": [
              "id                     0\n",
              "fecha                  0\n",
              "estado                 0\n",
              "tipo_servicio          0\n",
              "directorio            74\n",
              "direccion           2064\n",
              "latitud          1897029\n",
              "longitud         1897029\n",
              "barrio           1509617\n",
              "nombres          2431279\n",
              "genero           2433075\n",
              "dtype: int64"
            ]
          },
          "metadata": {
            "tags": []
          },
          "execution_count": 10
        }
      ]
    },
    {
      "cell_type": "code",
      "metadata": {
        "id": "S_c0ZcSngeLd",
        "outputId": "b53a77f8-c771-4bd2-ac2c-282b3e07445a",
        "colab": {
          "base_uri": "https://localhost:8080/",
          "height": 587
        }
      },
      "source": [
        "if len(df_taxisrcp[df_taxisrcp.isnull().any(axis=1)] != 0):\n",
        "  missingno.matrix(df_taxisrcp)\n",
        "  plt.show()"
      ],
      "execution_count": 14,
      "outputs": [
        {
          "output_type": "display_data",
          "data": {
            "image/png": "[encoded data removed]",
            "text/plain": [
              "<Figure size 1800x720 with 2 Axes>"
            ]
          },
          "metadata": {
            "tags": [],
            "needs_background": "light"
          }
        }
      ]
    },
    {
      "cell_type": "markdown",
      "metadata": {
        "id": "sauH2jLfjzsL"
      },
      "source": [
        ""
      ]
    },
    {
      "cell_type": "code",
      "metadata": {
        "id": "Zy54p-2rj0O8",
        "outputId": "142b4bad-1d02-45fd-fe77-0e73bd914bfb",
        "colab": {
          "base_uri": "https://localhost:8080/",
          "height": 678
        }
      },
      "source": [
        "missingno.bar(df_taxisrcp)"
      ],
      "execution_count": 15,
      "outputs": [
        {
          "output_type": "execute_result",
          "data": {
            "text/plain": [
              "<matplotlib.axes._subplots.AxesSubplot at 0x7f693a7ea0f0>"
            ]
          },
          "metadata": {
            "tags": []
          },
          "execution_count": 15
        },
        {
          "output_type": "display_data",
          "data": {
            "image/png": "[encoded data removed]",
            "text/plain": [
              "<Figure size 1728x720 with 3 Axes>"
            ]
          },
          "metadata": {
            "tags": [],
            "needs_background": "light"
          }
        }
      ]
    },
    {
      "cell_type": "code",
      "metadata": {
        "id": "INjYuuy_kPx3",
        "outputId": "c9e54b80-46ff-4bc2-c714-63254be86f10",
        "colab": {
          "base_uri": "https://localhost:8080/",
          "height": 51
        }
      },
      "source": [
        "# generate count statistics of duplicate entries\n",
        "if len(df_taxisrcp[df_taxisrcp.duplicated()]) > 0:\n",
        "  print(\"\\n***Number of duplicated entries: \", len(df_taxisrcp[df_taxisrcp.duplicated()]))\n",
        "  display(df_taxisrcp[df_taxisrcp.duplicated(keep=False)].sort_values(by=list(df_taxisrcp.columns)).head())\n",
        "else:\n",
        "  print(\"\\nNo duplicated entries found\")\n"
      ],
      "execution_count": 16,
      "outputs": [
        {
          "output_type": "stream",
          "text": [
            "\n",
            "No duplicated entries found\n"
          ],
          "name": "stdout"
        }
      ]
    },
    {
      "cell_type": "markdown",
      "metadata": {
        "id": "ezmgasNJAUSo"
      },
      "source": [
        "Drop rows with direccion values null"
      ]
    },
    {
      "cell_type": "code",
      "metadata": {
        "id": "B-YguVYgyVrO"
      },
      "source": [
        "df_test = df_taxisrcp[df_taxisrcp['direccion'].isnull()].copy()\n"
      ],
      "execution_count": 17,
      "outputs": []
    },
    {
      "cell_type": "code",
      "metadata": {
        "id": "s5DLDNy2iTha"
      },
      "source": [
        "df_taxisrcp.dropna(subset=['direccion'],inplace=True)"
      ],
      "execution_count": 11,
      "outputs": []
    },
    {
      "cell_type": "code",
      "metadata": {
        "id": "x-3l9JsgAos_",
        "outputId": "4fab6d32-87a8-4d41-cb8c-6714ab6da937",
        "colab": {
          "base_uri": "https://localhost:8080/",
          "height": 221
        }
      },
      "source": [
        "df_taxisrcp.isna().sum()"
      ],
      "execution_count": 12,
      "outputs": [
        {
          "output_type": "execute_result",
          "data": {
            "text/plain": [
              "id                     0\n",
              "fecha                  0\n",
              "estado                 0\n",
              "tipo_servicio          0\n",
              "directorio            10\n",
              "direccion              0\n",
              "latitud          1894965\n",
              "longitud         1894965\n",
              "barrio           1507553\n",
              "nombres          2431011\n",
              "genero           2431011\n",
              "dtype: int64"
            ]
          },
          "metadata": {
            "tags": []
          },
          "execution_count": 12
        }
      ]
    },
    {
      "cell_type": "code",
      "metadata": {
        "id": "n0lmR0HrBMST",
        "outputId": "6bc242e8-5051-4152-f665-404bc2a545bd",
        "colab": {
          "base_uri": "https://localhost:8080/",
          "height": 34
        }
      },
      "source": [
        "df.shape"
      ],
      "execution_count": 13,
      "outputs": [
        {
          "output_type": "execute_result",
          "data": {
            "text/plain": [
              "(2436915, 11)"
            ]
          },
          "metadata": {
            "tags": []
          },
          "execution_count": 13
        }
      ]
    },
    {
      "cell_type": "code",
      "metadata": {
        "id": "CgfEXCiuBTIl"
      },
      "source": [
        "df_latlon = df_taxisrcp.dropna(subset=['latitud','longitud'])\n"
      ],
      "execution_count": 20,
      "outputs": []
    },
    {
      "cell_type": "markdown",
      "metadata": {
        "id": "ou7VzsA24ETC"
      },
      "source": [
        "-----------------"
      ]
    },
    {
      "cell_type": "code",
      "metadata": {
        "id": "SlymEwBeCKs_",
        "outputId": "b246e6b0-516a-4ded-eaf7-8e518f39d5b2",
        "colab": {
          "base_uri": "https://localhost:8080/",
          "height": 221
        }
      },
      "source": [
        "df_latlon.isna().sum()"
      ],
      "execution_count": 21,
      "outputs": [
        {
          "output_type": "execute_result",
          "data": {
            "text/plain": [
              "id                    0\n",
              "fecha                 0\n",
              "estado                0\n",
              "tipo_servicio         0\n",
              "directorio           10\n",
              "direccion             0\n",
              "latitud               0\n",
              "longitud              0\n",
              "barrio            56708\n",
              "nombres          537145\n",
              "genero           537145\n",
              "dtype: int64"
            ]
          },
          "metadata": {
            "tags": []
          },
          "execution_count": 21
        }
      ]
    },
    {
      "cell_type": "code",
      "metadata": {
        "id": "3Zz38k8kGCup",
        "outputId": "9a8d9cdb-0422-485c-d835-9a284a056f5f",
        "colab": {
          "base_uri": "https://localhost:8080/",
          "height": 34
        }
      },
      "source": [
        "df_latlon.shape"
      ],
      "execution_count": 33,
      "outputs": [
        {
          "output_type": "execute_result",
          "data": {
            "text/plain": [
              "(539886, 11)"
            ]
          },
          "metadata": {
            "tags": []
          },
          "execution_count": 33
        }
      ]
    },
    {
      "cell_type": "markdown",
      "metadata": {
        "id": "9cfTkX1sut4Z"
      },
      "source": [
        "# **Detecting outliers**"
      ]
    },
    {
      "cell_type": "code",
      "metadata": {
        "id": "JEQ3ZUpxB09B",
        "outputId": "3fa0786f-2ebf-42f8-ebcd-c41a38ae5790",
        "colab": {
          "base_uri": "https://localhost:8080/",
          "height": 490
        }
      },
      "source": [
        "fig, ax = plt.subplots(figsize=(12,10))\n",
        "taxi_gdf.plot(markersize=10, ax=ax);"
      ],
      "execution_count": null,
      "outputs": [
        {
          "output_type": "display_data",
          "data": {
            "image/png": "[encoded data removed]",
            "text/plain": [
              "<Figure size 864x720 with 1 Axes>"
            ]
          },
          "metadata": {
            "tags": [],
            "needs_background": "light"
          }
        }
      ]
    },
    {
      "cell_type": "code",
      "metadata": {
        "id": "FyRDnBPSEEEg",
        "outputId": "bd86623d-3d0a-4fe1-a89a-434233fa6491",
        "colab": {
          "base_uri": "https://localhost:8080/",
          "height": 204
        }
      },
      "source": [
        "coords = taxi_gdf[['latitud', 'longitud']]\n",
        "coords[:5]"
      ],
      "execution_count": null,
      "outputs": [
        {
          "output_type": "execute_result",
          "data": {
            "text/html": [
              "<div>\n",
              "<style scoped>\n",
              "    .dataframe tbody tr th:only-of-type {\n",
              "        vertical-align: middle;\n",
              "    }\n",
              "\n",
              "    .dataframe tbody tr th {\n",
              "        vertical-align: top;\n",
              "    }\n",
              "\n",
              "    .dataframe thead th {\n",
              "        text-align: right;\n",
              "    }\n",
              "</style>\n",
              "<table border=\"1\" class=\"dataframe\">\n",
              "  <thead>\n",
              "    <tr style=\"text-align: right;\">\n",
              "      <th></th>\n",
              "      <th>latitud</th>\n",
              "      <th>longitud</th>\n",
              "    </tr>\n",
              "  </thead>\n",
              "  <tbody>\n",
              "    <tr>\n",
              "      <th>0</th>\n",
              "      <td>1.220376</td>\n",
              "      <td>-77.286333</td>\n",
              "    </tr>\n",
              "    <tr>\n",
              "      <th>13</th>\n",
              "      <td>1.216537</td>\n",
              "      <td>-77.291056</td>\n",
              "    </tr>\n",
              "    <tr>\n",
              "      <th>16</th>\n",
              "      <td>1.207778</td>\n",
              "      <td>-77.277222</td>\n",
              "    </tr>\n",
              "    <tr>\n",
              "      <th>20</th>\n",
              "      <td>1.198642</td>\n",
              "      <td>-77.276898</td>\n",
              "    </tr>\n",
              "    <tr>\n",
              "      <th>25</th>\n",
              "      <td>1.201020</td>\n",
              "      <td>-77.279882</td>\n",
              "    </tr>\n",
              "  </tbody>\n",
              "</table>\n",
              "</div>"
            ],
            "text/plain": [
              "     latitud   longitud\n",
              "0   1.220376 -77.286333\n",
              "13  1.216537 -77.291056\n",
              "16  1.207778 -77.277222\n",
              "20  1.198642 -77.276898\n",
              "25  1.201020 -77.279882"
            ]
          },
          "metadata": {
            "tags": []
          },
          "execution_count": 24
        }
      ]
    },
    {
      "cell_type": "code",
      "metadata": {
        "id": "SUrcXh19ENUg"
      },
      "source": [
        "# Get labels of each cluster \n",
        "_, labels  = dbscan(taxi_gdf[['latitud', 'longitud']], eps=0.1, min_samples=10)"
      ],
      "execution_count": null,
      "outputs": []
    },
    {
      "cell_type": "code",
      "metadata": {
        "id": "FvBV1ByeESTO",
        "outputId": "bfb221bb-bcaf-45ba-f9df-bf6eddd66419",
        "colab": {
          "base_uri": "https://localhost:8080/",
          "height": 198
        }
      },
      "source": [
        "# Create a labels dataframe with the index of the dataset\n",
        "labels_df = pd.DataFrame(labels, index=taxi_gdf.index, columns=['cluster'])\n",
        "labels_df.head()"
      ],
      "execution_count": null,
      "outputs": [
        {
          "output_type": "error",
          "ename": "NameError",
          "evalue": "ignored",
          "traceback": [
            "\u001b[0;31m---------------------------------------------------------------------------\u001b[0m",
            "\u001b[0;31mNameError\u001b[0m                                 Traceback (most recent call last)",
            "\u001b[0;32m<ipython-input-3-45b3b09a251d>\u001b[0m in \u001b[0;36m<module>\u001b[0;34m()\u001b[0m\n\u001b[1;32m      1\u001b[0m \u001b[0;31m# Create a labels dataframe with the index of the dataset\u001b[0m\u001b[0;34m\u001b[0m\u001b[0;34m\u001b[0m\u001b[0;34m\u001b[0m\u001b[0m\n\u001b[0;32m----> 2\u001b[0;31m \u001b[0mlabels_df\u001b[0m \u001b[0;34m=\u001b[0m \u001b[0mpd\u001b[0m\u001b[0;34m.\u001b[0m\u001b[0mDataFrame\u001b[0m\u001b[0;34m(\u001b[0m\u001b[0mlabels\u001b[0m\u001b[0;34m,\u001b[0m \u001b[0mindex\u001b[0m\u001b[0;34m=\u001b[0m\u001b[0mtaxi_gdf\u001b[0m\u001b[0;34m.\u001b[0m\u001b[0mindex\u001b[0m\u001b[0;34m,\u001b[0m \u001b[0mcolumns\u001b[0m\u001b[0;34m=\u001b[0m\u001b[0;34m[\u001b[0m\u001b[0;34m'cluster'\u001b[0m\u001b[0;34m]\u001b[0m\u001b[0;34m)\u001b[0m\u001b[0;34m\u001b[0m\u001b[0;34m\u001b[0m\u001b[0m\n\u001b[0m\u001b[1;32m      3\u001b[0m \u001b[0mlabels_df\u001b[0m\u001b[0;34m.\u001b[0m\u001b[0mhead\u001b[0m\u001b[0;34m(\u001b[0m\u001b[0;34m)\u001b[0m\u001b[0;34m\u001b[0m\u001b[0;34m\u001b[0m\u001b[0m\n",
            "\u001b[0;31mNameError\u001b[0m: name 'labels' is not defined"
          ]
        }
      ]
    },
    {
      "cell_type": "code",
      "metadata": {
        "id": "ivrk5K5UEb-f"
      },
      "source": [
        "labels_df.groupby('cluster').size()"
      ],
      "execution_count": null,
      "outputs": []
    },
    {
      "cell_type": "markdown",
      "metadata": {
        "id": "5ICisAU4zZBS"
      },
      "source": [
        "# **Categorical data analysis**"
      ]
    },
    {
      "cell_type": "markdown",
      "metadata": {
        "id": "dZLY698t6dl3"
      },
      "source": [
        ""
      ]
    },
    {
      "cell_type": "code",
      "metadata": {
        "id": "Ay_5vbgHzYQ9",
        "outputId": "5bffb2e9-a23b-4e68-fd56-b43e4236028a",
        "colab": {
          "base_uri": "https://localhost:8080/",
          "height": 85
        }
      },
      "source": [
        "df_taxisrcp.select_dtypes(include=['category']).nunique()"
      ],
      "execution_count": 51,
      "outputs": [
        {
          "output_type": "execute_result",
          "data": {
            "text/plain": [
              "estado           5\n",
              "tipo_servicio    4\n",
              "genero           2\n",
              "dtype: int64"
            ]
          },
          "metadata": {
            "tags": []
          },
          "execution_count": 51
        }
      ]
    },
    {
      "cell_type": "code",
      "metadata": {
        "id": "-BJwSwgV2Buk",
        "outputId": "d4104c29-8619-4c0f-b86c-fa3ee0da0ba4",
        "colab": {
          "base_uri": "https://localhost:8080/",
          "height": 357
        }
      },
      "source": [
        "columns = df_taxisrcp.select_dtypes(include=[ 'category']).columns\n",
        "for col in columns:\n",
        "    print(\"Unique values of \" + col)\n",
        "    print(df_taxisrcp[col].value_counts().reset_index().rename(columns={\"index\": col, col: \"Count\"}))\n",
        "    print(\"\")"
      ],
      "execution_count": 52,
      "outputs": [
        {
          "output_type": "stream",
          "text": [
            "Unique values of estado\n",
            "                       estado   Count\n",
            "0                  Confirmada  944320\n",
            "1  Confirmada fuera de tiempo  655325\n",
            "2                      Activa  434496\n",
            "3                    Generada  383918\n",
            "4                   Cancelada   18856\n",
            "\n",
            "Unique values of tipo_servicio\n",
            "  tipo_servicio    Count\n",
            "0            SC  2434826\n",
            "1           SEU     1714\n",
            "2           SEA      339\n",
            "3           SEI       36\n",
            "\n",
            "Unique values of genero\n",
            "  genero  Count\n",
            "0      M   3743\n",
            "1      F     97\n",
            "\n"
          ],
          "name": "stdout"
        }
      ]
    },
    {
      "cell_type": "code",
      "metadata": {
        "id": "Jz9svPiC0imO",
        "outputId": "8915a3b3-a70d-4a5b-b8fc-435175a65feb",
        "colab": {
          "base_uri": "https://localhost:8080/",
          "height": 531
        }
      },
      "source": [
        "print('Estado')\n",
        "fig = sns.catplot(x='estado', kind=\"count\", data=df_taxisrcp)\n",
        "fig.set_xticklabels(rotation=90)\n",
        "plt.show()  \n",
        "    "
      ],
      "execution_count": 53,
      "outputs": [
        {
          "output_type": "stream",
          "text": [
            "Estado\n"
          ],
          "name": "stdout"
        },
        {
          "output_type": "display_data",
          "data": {
            "image/png": "[encoded data removed]",
            "text/plain": [
              "<Figure size 360x360 with 1 Axes>"
            ]
          },
          "metadata": {
            "tags": [],
            "needs_background": "light"
          }
        }
      ]
    },
    {
      "cell_type": "code",
      "metadata": {
        "id": "aopbJhQF7XaT",
        "outputId": "4f505f85-c0f8-4590-fa00-92baee8278cb",
        "colab": {
          "base_uri": "https://localhost:8080/",
          "height": 548
        }
      },
      "source": [
        "print(\"Distribution of estado data\")\n",
        "figure = plt.figure(figsize=(20, 10))\n",
        "fig = sns.catplot(x='estado', y='id', kind='violin', data=df_taxisrcp, height=5, aspect=2)\n",
        "fig.set_xticklabels(rotation=90)\n",
        "plt.show()"
      ],
      "execution_count": 54,
      "outputs": [
        {
          "output_type": "stream",
          "text": [
            "Distribution of estado data\n"
          ],
          "name": "stdout"
        },
        {
          "output_type": "display_data",
          "data": {
            "text/plain": [
              "<Figure size 1440x720 with 0 Axes>"
            ]
          },
          "metadata": {
            "tags": []
          }
        },
        {
          "output_type": "display_data",
          "data": {
            "image/png": "[encoded data removed]",
            "text/plain": [
              "<Figure size 720x360 with 1 Axes>"
            ]
          },
          "metadata": {
            "tags": [],
            "needs_background": "light"
          }
        }
      ]
    },
    {
      "cell_type": "code",
      "metadata": {
        "id": "WHpCD_NV4bI5",
        "outputId": "458a046d-a63d-406a-b4b6-355a57eb70d9",
        "colab": {
          "base_uri": "https://localhost:8080/",
          "height": 411
        }
      },
      "source": [
        "print('tipo_servicio')\n",
        "fig = sns.catplot(x='tipo_servicio', kind=\"count\", data=df_taxisrcp)\n",
        "fig.set_xticklabels(rotation=90)\n",
        "plt.show()"
      ],
      "execution_count": null,
      "outputs": [
        {
          "output_type": "stream",
          "text": [
            "tipo_servicio\n"
          ],
          "name": "stdout"
        },
        {
          "output_type": "display_data",
          "data": {
            "image/png": "[encoded data removed]",
            "text/plain": [
              "<Figure size 360x360 with 1 Axes>"
            ]
          },
          "metadata": {
            "tags": [],
            "needs_background": "light"
          }
        }
      ]
    },
    {
      "cell_type": "code",
      "metadata": {
        "id": "xtzUoZzi8l95",
        "outputId": "04e3f4c6-cf2b-45eb-b7d1-8391a878d238",
        "colab": {
          "base_uri": "https://localhost:8080/",
          "height": 428
        }
      },
      "source": [
        "print(\"Distribution of tipo_servicio data\")\n",
        "figure = plt.figure(figsize=(20, 10))\n",
        "fig = sns.catplot(x='tipo_servicio', y='id', kind='violin', data=df_taxisrcp, height=5, aspect=2)\n",
        "fig.set_xticklabels(rotation=90)\n",
        "plt.show()"
      ],
      "execution_count": null,
      "outputs": [
        {
          "output_type": "stream",
          "text": [
            "Distribution of tipo_servicio data\n"
          ],
          "name": "stdout"
        },
        {
          "output_type": "display_data",
          "data": {
            "text/plain": [
              "<Figure size 1440x720 with 0 Axes>"
            ]
          },
          "metadata": {
            "tags": []
          }
        },
        {
          "output_type": "display_data",
          "data": {
            "image/png": "[encoded data removed]",
            "text/plain": [
              "<Figure size 720x360 with 1 Axes>"
            ]
          },
          "metadata": {
            "tags": [],
            "needs_background": "light"
          }
        }
      ]
    },
    {
      "cell_type": "code",
      "metadata": {
        "id": "DpmyiMfp49VP",
        "outputId": "cd450426-80a5-482d-efb1-21637c7c7c7b",
        "colab": {
          "base_uri": "https://localhost:8080/",
          "height": 399
        }
      },
      "source": [
        "print('genero')\n",
        "fig = sns.catplot(x='genero', kind=\"count\", data=df_taxisrcp)\n",
        "fig.set_xticklabels(rotation=90)\n",
        "plt.show()"
      ],
      "execution_count": null,
      "outputs": [
        {
          "output_type": "stream",
          "text": [
            "genero\n"
          ],
          "name": "stdout"
        },
        {
          "output_type": "display_data",
          "data": {
            "image/png": "[encoded data removed]",
            "text/plain": [
              "<Figure size 360x360 with 1 Axes>"
            ]
          },
          "metadata": {
            "tags": [],
            "needs_background": "light"
          }
        }
      ]
    },
    {
      "cell_type": "code",
      "metadata": {
        "id": "F7K7Wx2K8uJX",
        "outputId": "20e1646f-1d8a-4d4d-e134-d2ec5a482a5d",
        "colab": {
          "base_uri": "https://localhost:8080/",
          "height": 416
        }
      },
      "source": [
        "print(\"Distribution of genero data\")\n",
        "figure = plt.figure(figsize=(20, 10))\n",
        "fig = sns.catplot(x='genero', y='id', kind='violin', data=df_taxisrcp, height=5, aspect=2)\n",
        "fig.set_xticklabels(rotation=90)\n",
        "plt.show()"
      ],
      "execution_count": null,
      "outputs": [
        {
          "output_type": "stream",
          "text": [
            "Distribution of genero data\n"
          ],
          "name": "stdout"
        },
        {
          "output_type": "display_data",
          "data": {
            "text/plain": [
              "<Figure size 1440x720 with 0 Axes>"
            ]
          },
          "metadata": {
            "tags": []
          }
        },
        {
          "output_type": "display_data",
          "data": {
            "image/png": "[encoded data removed]",
            "text/plain": [
              "<Figure size 720x360 with 1 Axes>"
            ]
          },
          "metadata": {
            "tags": [],
            "needs_background": "light"
          }
        }
      ]
    },
    {
      "cell_type": "markdown",
      "metadata": {
        "id": "_6cRUzui4OmJ"
      },
      "source": [
        "------------------"
      ]
    },
    {
      "cell_type": "markdown",
      "metadata": {
        "id": "Yfp1AMtp6faq"
      },
      "source": [
        "# **Geospatial analysis**"
      ]
    },
    {
      "cell_type": "code",
      "metadata": {
        "id": "3Qgt9Qxpb5ro",
        "outputId": "2ab7a0c6-a566-4153-cbd7-e086b86d9274",
        "colab": {
          "base_uri": "https://localhost:8080/",
          "height": 419
        }
      },
      "source": [
        "df_taxisrcp"
      ],
      "execution_count": 14,
      "outputs": [
        {
          "output_type": "execute_result",
          "data": {
            "text/html": [
              "<div>\n",
              "<style scoped>\n",
              "    .dataframe tbody tr th:only-of-type {\n",
              "        vertical-align: middle;\n",
              "    }\n",
              "\n",
              "    .dataframe tbody tr th {\n",
              "        vertical-align: top;\n",
              "    }\n",
              "\n",
              "    .dataframe thead th {\n",
              "        text-align: right;\n",
              "    }\n",
              "</style>\n",
              "<table border=\"1\" class=\"dataframe\">\n",
              "  <thead>\n",
              "    <tr style=\"text-align: right;\">\n",
              "      <th></th>\n",
              "      <th>id</th>\n",
              "      <th>fecha</th>\n",
              "      <th>estado</th>\n",
              "      <th>tipo_servicio</th>\n",
              "      <th>directorio</th>\n",
              "      <th>direccion</th>\n",
              "      <th>latitud</th>\n",
              "      <th>longitud</th>\n",
              "      <th>barrio</th>\n",
              "      <th>nombres</th>\n",
              "      <th>genero</th>\n",
              "    </tr>\n",
              "  </thead>\n",
              "  <tbody>\n",
              "    <tr>\n",
              "      <th>0</th>\n",
              "      <td>1684494</td>\n",
              "      <td>2019-06-15</td>\n",
              "      <td>Confirmada fuera de tiempo</td>\n",
              "      <td>SC</td>\n",
              "      <td>1342</td>\n",
              "      <td>Calle 16 # 37 - 47 Las Margaritas</td>\n",
              "      <td>1.220376</td>\n",
              "      <td>-77.286333</td>\n",
              "      <td>Las Margaritas</td>\n",
              "      <td>None</td>\n",
              "      <td>NaN</td>\n",
              "    </tr>\n",
              "    <tr>\n",
              "      <th>1</th>\n",
              "      <td>1684511</td>\n",
              "      <td>2019-06-15</td>\n",
              "      <td>Confirmada</td>\n",
              "      <td>SC</td>\n",
              "      <td>1024</td>\n",
              "      <td>TORRES DE MARILUZ</td>\n",
              "      <td>NaN</td>\n",
              "      <td>NaN</td>\n",
              "      <td>Mariluz  III</td>\n",
              "      <td>None</td>\n",
              "      <td>NaN</td>\n",
              "    </tr>\n",
              "    <tr>\n",
              "      <th>2</th>\n",
              "      <td>1684513</td>\n",
              "      <td>2019-06-15</td>\n",
              "      <td>Confirmada fuera de tiempo</td>\n",
              "      <td>SC</td>\n",
              "      <td>7293074</td>\n",
              "      <td>miravalle</td>\n",
              "      <td>NaN</td>\n",
              "      <td>NaN</td>\n",
              "      <td>None</td>\n",
              "      <td>None</td>\n",
              "      <td>NaN</td>\n",
              "    </tr>\n",
              "    <tr>\n",
              "      <th>3</th>\n",
              "      <td>1684520</td>\n",
              "      <td>2019-06-15</td>\n",
              "      <td>Confirmada fuera de tiempo</td>\n",
              "      <td>SC</td>\n",
              "      <td>3013488266</td>\n",
              "      <td>Carrera 24  13 54 santiago</td>\n",
              "      <td>NaN</td>\n",
              "      <td>NaN</td>\n",
              "      <td>None</td>\n",
              "      <td>None</td>\n",
              "      <td>NaN</td>\n",
              "    </tr>\n",
              "    <tr>\n",
              "      <th>4</th>\n",
              "      <td>1684525</td>\n",
              "      <td>2019-06-15</td>\n",
              "      <td>Confirmada fuera de tiempo</td>\n",
              "      <td>SC</td>\n",
              "      <td>1011</td>\n",
              "      <td>KR 35  19 10 HABITAR VERSALLES</td>\n",
              "      <td>NaN</td>\n",
              "      <td>NaN</td>\n",
              "      <td>Versalles</td>\n",
              "      <td>None</td>\n",
              "      <td>NaN</td>\n",
              "    </tr>\n",
              "    <tr>\n",
              "      <th>...</th>\n",
              "      <td>...</td>\n",
              "      <td>...</td>\n",
              "      <td>...</td>\n",
              "      <td>...</td>\n",
              "      <td>...</td>\n",
              "      <td>...</td>\n",
              "      <td>...</td>\n",
              "      <td>...</td>\n",
              "      <td>...</td>\n",
              "      <td>...</td>\n",
              "      <td>...</td>\n",
              "    </tr>\n",
              "    <tr>\n",
              "      <th>2436910</th>\n",
              "      <td>1684278</td>\n",
              "      <td>2019-06-15</td>\n",
              "      <td>Confirmada fuera de tiempo</td>\n",
              "      <td>SC</td>\n",
              "      <td>3177203316</td>\n",
              "      <td>CANCHALA</td>\n",
              "      <td>NaN</td>\n",
              "      <td>NaN</td>\n",
              "      <td>None</td>\n",
              "      <td>None</td>\n",
              "      <td>NaN</td>\n",
              "    </tr>\n",
              "    <tr>\n",
              "      <th>2436911</th>\n",
              "      <td>1684341</td>\n",
              "      <td>2019-06-15</td>\n",
              "      <td>Confirmada fuera de tiempo</td>\n",
              "      <td>SC</td>\n",
              "      <td>3165780828</td>\n",
              "      <td>Carrera 18 13a 24</td>\n",
              "      <td>NaN</td>\n",
              "      <td>NaN</td>\n",
              "      <td>None</td>\n",
              "      <td>None</td>\n",
              "      <td>NaN</td>\n",
              "    </tr>\n",
              "    <tr>\n",
              "      <th>2436912</th>\n",
              "      <td>1684398</td>\n",
              "      <td>2019-06-15</td>\n",
              "      <td>Confirmada fuera de tiempo</td>\n",
              "      <td>SC</td>\n",
              "      <td>3013922758</td>\n",
              "      <td>KRA  41  9  25   M/3</td>\n",
              "      <td>NaN</td>\n",
              "      <td>NaN</td>\n",
              "      <td>None</td>\n",
              "      <td>None</td>\n",
              "      <td>NaN</td>\n",
              "    </tr>\n",
              "    <tr>\n",
              "      <th>2436913</th>\n",
              "      <td>1684449</td>\n",
              "      <td>2019-06-15</td>\n",
              "      <td>Confirmada fuera de tiempo</td>\n",
              "      <td>SC</td>\n",
              "      <td>3015410836</td>\n",
              "      <td>Calle 19 # 17b - 58</td>\n",
              "      <td>NaN</td>\n",
              "      <td>NaN</td>\n",
              "      <td>None</td>\n",
              "      <td>None</td>\n",
              "      <td>NaN</td>\n",
              "    </tr>\n",
              "    <tr>\n",
              "      <th>2436914</th>\n",
              "      <td>1684482</td>\n",
              "      <td>2019-06-15</td>\n",
              "      <td>Confirmada fuera de tiempo</td>\n",
              "      <td>SC</td>\n",
              "      <td>3165187982</td>\n",
              "      <td>Calle 12 # 32 - 56 La aurora</td>\n",
              "      <td>NaN</td>\n",
              "      <td>NaN</td>\n",
              "      <td>None</td>\n",
              "      <td>None</td>\n",
              "      <td>NaN</td>\n",
              "    </tr>\n",
              "  </tbody>\n",
              "</table>\n",
              "<p>2434851 rows × 11 columns</p>\n",
              "</div>"
            ],
            "text/plain": [
              "              id      fecha  ... nombres genero\n",
              "0        1684494 2019-06-15  ...    None    NaN\n",
              "1        1684511 2019-06-15  ...    None    NaN\n",
              "2        1684513 2019-06-15  ...    None    NaN\n",
              "3        1684520 2019-06-15  ...    None    NaN\n",
              "4        1684525 2019-06-15  ...    None    NaN\n",
              "...          ...        ...  ...     ...    ...\n",
              "2436910  1684278 2019-06-15  ...    None    NaN\n",
              "2436911  1684341 2019-06-15  ...    None    NaN\n",
              "2436912  1684398 2019-06-15  ...    None    NaN\n",
              "2436913  1684449 2019-06-15  ...    None    NaN\n",
              "2436914  1684482 2019-06-15  ...    None    NaN\n",
              "\n",
              "[2434851 rows x 11 columns]"
            ]
          },
          "metadata": {
            "tags": []
          },
          "execution_count": 14
        }
      ]
    },
    {
      "cell_type": "code",
      "metadata": {
        "id": "lS1pXDhjnRDy",
        "outputId": "7cd36bfe-825c-41b3-da8b-7a903ba91e31",
        "colab": {
          "base_uri": "https://localhost:8080/",
          "height": 589
        }
      },
      "source": [
        "p_train = 0.0001 # Porcentaje \n",
        "sub_df = df_taxisrcp[:int((len(df_taxisrcp))*p_train)]\n",
        "sub_df"
      ],
      "execution_count": 30,
      "outputs": [
        {
          "output_type": "execute_result",
          "data": {
            "text/html": [
              "<div>\n",
              "<style scoped>\n",
              "    .dataframe tbody tr th:only-of-type {\n",
              "        vertical-align: middle;\n",
              "    }\n",
              "\n",
              "    .dataframe tbody tr th {\n",
              "        vertical-align: top;\n",
              "    }\n",
              "\n",
              "    .dataframe thead th {\n",
              "        text-align: right;\n",
              "    }\n",
              "</style>\n",
              "<table border=\"1\" class=\"dataframe\">\n",
              "  <thead>\n",
              "    <tr style=\"text-align: right;\">\n",
              "      <th></th>\n",
              "      <th>id</th>\n",
              "      <th>fecha</th>\n",
              "      <th>estado</th>\n",
              "      <th>tipo_servicio</th>\n",
              "      <th>directorio</th>\n",
              "      <th>direccion</th>\n",
              "      <th>latitud</th>\n",
              "      <th>longitud</th>\n",
              "      <th>barrio</th>\n",
              "      <th>nombres</th>\n",
              "      <th>genero</th>\n",
              "      <th>latlon</th>\n",
              "    </tr>\n",
              "  </thead>\n",
              "  <tbody>\n",
              "    <tr>\n",
              "      <th>0</th>\n",
              "      <td>1684494</td>\n",
              "      <td>2019-06-15</td>\n",
              "      <td>Confirmada fuera de tiempo</td>\n",
              "      <td>SC</td>\n",
              "      <td>1342</td>\n",
              "      <td>Calle 16 # 37 - 47 Las Margaritas</td>\n",
              "      <td>1.220376</td>\n",
              "      <td>-77.286333</td>\n",
              "      <td>Las Margaritas</td>\n",
              "      <td>None</td>\n",
              "      <td>NaN</td>\n",
              "      <td>NaN</td>\n",
              "    </tr>\n",
              "    <tr>\n",
              "      <th>1</th>\n",
              "      <td>1684511</td>\n",
              "      <td>2019-06-15</td>\n",
              "      <td>Confirmada</td>\n",
              "      <td>SC</td>\n",
              "      <td>1024</td>\n",
              "      <td>TORRES DE MARILUZ</td>\n",
              "      <td>NaN</td>\n",
              "      <td>NaN</td>\n",
              "      <td>Mariluz  III</td>\n",
              "      <td>None</td>\n",
              "      <td>NaN</td>\n",
              "      <td>NaN</td>\n",
              "    </tr>\n",
              "    <tr>\n",
              "      <th>2</th>\n",
              "      <td>1684513</td>\n",
              "      <td>2019-06-15</td>\n",
              "      <td>Confirmada fuera de tiempo</td>\n",
              "      <td>SC</td>\n",
              "      <td>7293074</td>\n",
              "      <td>miravalle</td>\n",
              "      <td>NaN</td>\n",
              "      <td>NaN</td>\n",
              "      <td>None</td>\n",
              "      <td>None</td>\n",
              "      <td>NaN</td>\n",
              "      <td>NaN</td>\n",
              "    </tr>\n",
              "    <tr>\n",
              "      <th>3</th>\n",
              "      <td>1684520</td>\n",
              "      <td>2019-06-15</td>\n",
              "      <td>Confirmada fuera de tiempo</td>\n",
              "      <td>SC</td>\n",
              "      <td>3013488266</td>\n",
              "      <td>Carrera 24  13 54 santiago</td>\n",
              "      <td>NaN</td>\n",
              "      <td>NaN</td>\n",
              "      <td>None</td>\n",
              "      <td>None</td>\n",
              "      <td>NaN</td>\n",
              "      <td>NaN</td>\n",
              "    </tr>\n",
              "    <tr>\n",
              "      <th>4</th>\n",
              "      <td>1684525</td>\n",
              "      <td>2019-06-15</td>\n",
              "      <td>Confirmada fuera de tiempo</td>\n",
              "      <td>SC</td>\n",
              "      <td>1011</td>\n",
              "      <td>KR 35  19 10 HABITAR VERSALLES</td>\n",
              "      <td>NaN</td>\n",
              "      <td>NaN</td>\n",
              "      <td>Versalles</td>\n",
              "      <td>None</td>\n",
              "      <td>NaN</td>\n",
              "      <td>NaN</td>\n",
              "    </tr>\n",
              "    <tr>\n",
              "      <th>...</th>\n",
              "      <td>...</td>\n",
              "      <td>...</td>\n",
              "      <td>...</td>\n",
              "      <td>...</td>\n",
              "      <td>...</td>\n",
              "      <td>...</td>\n",
              "      <td>...</td>\n",
              "      <td>...</td>\n",
              "      <td>...</td>\n",
              "      <td>...</td>\n",
              "      <td>...</td>\n",
              "      <td>...</td>\n",
              "    </tr>\n",
              "    <tr>\n",
              "      <th>238</th>\n",
              "      <td>1685280</td>\n",
              "      <td>2019-06-15</td>\n",
              "      <td>Confirmada fuera de tiempo</td>\n",
              "      <td>SC</td>\n",
              "      <td>1024</td>\n",
              "      <td>TORRES DE MARILUZ</td>\n",
              "      <td>NaN</td>\n",
              "      <td>NaN</td>\n",
              "      <td>Mariluz  III</td>\n",
              "      <td>None</td>\n",
              "      <td>NaN</td>\n",
              "      <td>NaN</td>\n",
              "    </tr>\n",
              "    <tr>\n",
              "      <th>239</th>\n",
              "      <td>1685284</td>\n",
              "      <td>2019-06-15</td>\n",
              "      <td>Confirmada fuera de tiempo</td>\n",
              "      <td>SC</td>\n",
              "      <td>1032</td>\n",
              "      <td>COND. SAT MONIKA</td>\n",
              "      <td>NaN</td>\n",
              "      <td>NaN</td>\n",
              "      <td>None</td>\n",
              "      <td>None</td>\n",
              "      <td>NaN</td>\n",
              "      <td>NaN</td>\n",
              "    </tr>\n",
              "    <tr>\n",
              "      <th>240</th>\n",
              "      <td>1685291</td>\n",
              "      <td>2019-06-15</td>\n",
              "      <td>Confirmada</td>\n",
              "      <td>SC</td>\n",
              "      <td>7298421</td>\n",
              "      <td>castillos del norte</td>\n",
              "      <td>NaN</td>\n",
              "      <td>NaN</td>\n",
              "      <td>None</td>\n",
              "      <td>None</td>\n",
              "      <td>NaN</td>\n",
              "      <td>NaN</td>\n",
              "    </tr>\n",
              "    <tr>\n",
              "      <th>241</th>\n",
              "      <td>1685294</td>\n",
              "      <td>2019-06-15</td>\n",
              "      <td>Confirmada fuera de tiempo</td>\n",
              "      <td>SC</td>\n",
              "      <td>1024</td>\n",
              "      <td>TORRES DE MARILUZ</td>\n",
              "      <td>NaN</td>\n",
              "      <td>NaN</td>\n",
              "      <td>Mariluz  III</td>\n",
              "      <td>None</td>\n",
              "      <td>NaN</td>\n",
              "      <td>NaN</td>\n",
              "    </tr>\n",
              "    <tr>\n",
              "      <th>242</th>\n",
              "      <td>1685297</td>\n",
              "      <td>2019-06-15</td>\n",
              "      <td>Confirmada fuera de tiempo</td>\n",
              "      <td>SC</td>\n",
              "      <td>1508</td>\n",
              "      <td>TORRE ANDINA</td>\n",
              "      <td>NaN</td>\n",
              "      <td>NaN</td>\n",
              "      <td>Avenida Boyaca</td>\n",
              "      <td>None</td>\n",
              "      <td>NaN</td>\n",
              "      <td>NaN</td>\n",
              "    </tr>\n",
              "  </tbody>\n",
              "</table>\n",
              "<p>243 rows × 12 columns</p>\n",
              "</div>"
            ],
            "text/plain": [
              "          id      fecha                      estado  ... nombres genero latlon\n",
              "0    1684494 2019-06-15  Confirmada fuera de tiempo  ...    None    NaN    NaN\n",
              "1    1684511 2019-06-15                  Confirmada  ...    None    NaN    NaN\n",
              "2    1684513 2019-06-15  Confirmada fuera de tiempo  ...    None    NaN    NaN\n",
              "3    1684520 2019-06-15  Confirmada fuera de tiempo  ...    None    NaN    NaN\n",
              "4    1684525 2019-06-15  Confirmada fuera de tiempo  ...    None    NaN    NaN\n",
              "..       ...        ...                         ...  ...     ...    ...    ...\n",
              "238  1685280 2019-06-15  Confirmada fuera de tiempo  ...    None    NaN    NaN\n",
              "239  1685284 2019-06-15  Confirmada fuera de tiempo  ...    None    NaN    NaN\n",
              "240  1685291 2019-06-15                  Confirmada  ...    None    NaN    NaN\n",
              "241  1685294 2019-06-15  Confirmada fuera de tiempo  ...    None    NaN    NaN\n",
              "242  1685297 2019-06-15  Confirmada fuera de tiempo  ...    None    NaN    NaN\n",
              "\n",
              "[243 rows x 12 columns]"
            ]
          },
          "metadata": {
            "tags": []
          },
          "execution_count": 30
        }
      ]
    },
    {
      "cell_type": "code",
      "metadata": {
        "id": "Z00R3Q3BXajx",
        "outputId": "b9c01202-0dc9-4c1b-f9ab-0d3e4c60cac4",
        "colab": {
          "base_uri": "https://localhost:8080/",
          "height": 341
        }
      },
      "source": [
        "def taxis_gecoder(addr):\n",
        "  address = \"{},Pasto,Nariño,Colombia\".format(addr)\n",
        "  g = geocoder.arcgis(address)\n",
        "  return g.latlng\n",
        "\n",
        "for i in range(1,100): \n",
        "    latlon =  taxis_gecoder(df_taxisrcp.loc[i,'direccion']) \n",
        "    df_taxisrcp.loc[i,'lat'] = latlon[0]\n",
        "    df_taxisrcp.loc[i,'lon'] = latlon[1]\n",
        "    \n",
        "    \n"
      ],
      "execution_count": 32,
      "outputs": [
        {
          "output_type": "error",
          "ename": "TypeError",
          "evalue": "ignored",
          "traceback": [
            "\u001b[0;31m---------------------------------------------------------------------------\u001b[0m",
            "\u001b[0;31mTypeError\u001b[0m                                 Traceback (most recent call last)",
            "\u001b[0;32m<ipython-input-32-b5ba1b894227>\u001b[0m in \u001b[0;36m<module>\u001b[0;34m()\u001b[0m\n\u001b[1;32m     12\u001b[0m \u001b[0;34m\u001b[0m\u001b[0m\n\u001b[1;32m     13\u001b[0m \u001b[0;34m\u001b[0m\u001b[0m\n\u001b[0;32m---> 14\u001b[0;31m \u001b[0mdf_taxisrcp\u001b[0m\u001b[0;34m[\u001b[0m\u001b[0mdf_taxisrcp\u001b[0m\u001b[0;34m.\u001b[0m\u001b[0mlat\u001b[0m\u001b[0;34m.\u001b[0m\u001b[0mnotnull\u001b[0m\u001b[0;34m]\u001b[0m\u001b[0;34m\u001b[0m\u001b[0;34m\u001b[0m\u001b[0m\n\u001b[0m",
            "\u001b[0;32m/usr/local/lib/python3.6/dist-packages/pandas/core/frame.py\u001b[0m in \u001b[0;36m__getitem__\u001b[0;34m(self, key)\u001b[0m\n\u001b[1;32m   2869\u001b[0m     \u001b[0;32mdef\u001b[0m \u001b[0m__getitem__\u001b[0m\u001b[0;34m(\u001b[0m\u001b[0mself\u001b[0m\u001b[0;34m,\u001b[0m \u001b[0mkey\u001b[0m\u001b[0;34m)\u001b[0m\u001b[0;34m:\u001b[0m\u001b[0;34m\u001b[0m\u001b[0;34m\u001b[0m\u001b[0m\n\u001b[1;32m   2870\u001b[0m         \u001b[0mkey\u001b[0m \u001b[0;34m=\u001b[0m \u001b[0mlib\u001b[0m\u001b[0;34m.\u001b[0m\u001b[0mitem_from_zerodim\u001b[0m\u001b[0;34m(\u001b[0m\u001b[0mkey\u001b[0m\u001b[0;34m)\u001b[0m\u001b[0;34m\u001b[0m\u001b[0;34m\u001b[0m\u001b[0m\n\u001b[0;32m-> 2871\u001b[0;31m         \u001b[0mkey\u001b[0m \u001b[0;34m=\u001b[0m \u001b[0mcom\u001b[0m\u001b[0;34m.\u001b[0m\u001b[0mapply_if_callable\u001b[0m\u001b[0;34m(\u001b[0m\u001b[0mkey\u001b[0m\u001b[0;34m,\u001b[0m \u001b[0mself\u001b[0m\u001b[0;34m)\u001b[0m\u001b[0;34m\u001b[0m\u001b[0;34m\u001b[0m\u001b[0m\n\u001b[0m\u001b[1;32m   2872\u001b[0m \u001b[0;34m\u001b[0m\u001b[0m\n\u001b[1;32m   2873\u001b[0m         \u001b[0;32mif\u001b[0m \u001b[0mis_hashable\u001b[0m\u001b[0;34m(\u001b[0m\u001b[0mkey\u001b[0m\u001b[0;34m)\u001b[0m\u001b[0;34m:\u001b[0m\u001b[0;34m\u001b[0m\u001b[0;34m\u001b[0m\u001b[0m\n",
            "\u001b[0;32m/usr/local/lib/python3.6/dist-packages/pandas/core/common.py\u001b[0m in \u001b[0;36mapply_if_callable\u001b[0;34m(maybe_callable, obj, **kwargs)\u001b[0m\n\u001b[1;32m    339\u001b[0m     \"\"\"\n\u001b[1;32m    340\u001b[0m     \u001b[0;32mif\u001b[0m \u001b[0mcallable\u001b[0m\u001b[0;34m(\u001b[0m\u001b[0mmaybe_callable\u001b[0m\u001b[0;34m)\u001b[0m\u001b[0;34m:\u001b[0m\u001b[0;34m\u001b[0m\u001b[0;34m\u001b[0m\u001b[0m\n\u001b[0;32m--> 341\u001b[0;31m         \u001b[0;32mreturn\u001b[0m \u001b[0mmaybe_callable\u001b[0m\u001b[0;34m(\u001b[0m\u001b[0mobj\u001b[0m\u001b[0;34m,\u001b[0m \u001b[0;34m**\u001b[0m\u001b[0mkwargs\u001b[0m\u001b[0;34m)\u001b[0m\u001b[0;34m\u001b[0m\u001b[0;34m\u001b[0m\u001b[0m\n\u001b[0m\u001b[1;32m    342\u001b[0m \u001b[0;34m\u001b[0m\u001b[0m\n\u001b[1;32m    343\u001b[0m     \u001b[0;32mreturn\u001b[0m \u001b[0mmaybe_callable\u001b[0m\u001b[0;34m\u001b[0m\u001b[0;34m\u001b[0m\u001b[0m\n",
            "\u001b[0;31mTypeError\u001b[0m: notnull() takes 1 positional argument but 2 were given"
          ]
        }
      ]
    },
    {
      "cell_type": "code",
      "metadata": {
        "id": "hbdgYyu1tyrV",
        "outputId": "de76a21e-f3b5-4389-8298-8099f09d9178",
        "colab": {
          "base_uri": "https://localhost:8080/",
          "height": 847
        }
      },
      "source": [
        "sub_df['coord']= sub_df.apply(lambda row:taxis_gecoder(row['direccion']),axis=1)\n",
        "sub_df"
      ],
      "execution_count": 42,
      "outputs": [
        {
          "output_type": "stream",
          "text": [
            "/usr/local/lib/python3.6/dist-packages/ipykernel_launcher.py:1: SettingWithCopyWarning: \n",
            "A value is trying to be set on a copy of a slice from a DataFrame.\n",
            "Try using .loc[row_indexer,col_indexer] = value instead\n",
            "\n",
            "See the caveats in the documentation: https://pandas.pydata.org/pandas-docs/stable/user_guide/indexing.html#returning-a-view-versus-a-copy\n",
            "  \"\"\"Entry point for launching an IPython kernel.\n"
          ],
          "name": "stderr"
        },
        {
          "output_type": "execute_result",
          "data": {
            "text/html": [
              "<div>\n",
              "<style scoped>\n",
              "    .dataframe tbody tr th:only-of-type {\n",
              "        vertical-align: middle;\n",
              "    }\n",
              "\n",
              "    .dataframe tbody tr th {\n",
              "        vertical-align: top;\n",
              "    }\n",
              "\n",
              "    .dataframe thead th {\n",
              "        text-align: right;\n",
              "    }\n",
              "</style>\n",
              "<table border=\"1\" class=\"dataframe\">\n",
              "  <thead>\n",
              "    <tr style=\"text-align: right;\">\n",
              "      <th></th>\n",
              "      <th>id</th>\n",
              "      <th>fecha</th>\n",
              "      <th>estado</th>\n",
              "      <th>tipo_servicio</th>\n",
              "      <th>directorio</th>\n",
              "      <th>direccion</th>\n",
              "      <th>latitud</th>\n",
              "      <th>longitud</th>\n",
              "      <th>barrio</th>\n",
              "      <th>nombres</th>\n",
              "      <th>genero</th>\n",
              "      <th>latlon</th>\n",
              "      <th>coord_lat</th>\n",
              "      <th>coord_lon</th>\n",
              "      <th>coord</th>\n",
              "    </tr>\n",
              "  </thead>\n",
              "  <tbody>\n",
              "    <tr>\n",
              "      <th>0</th>\n",
              "      <td>1684494</td>\n",
              "      <td>2019-06-15</td>\n",
              "      <td>Confirmada fuera de tiempo</td>\n",
              "      <td>SC</td>\n",
              "      <td>1342</td>\n",
              "      <td>Calle 16 # 37 - 47 Las Margaritas</td>\n",
              "      <td>1.220376</td>\n",
              "      <td>-77.286333</td>\n",
              "      <td>Las Margaritas</td>\n",
              "      <td>None</td>\n",
              "      <td>NaN</td>\n",
              "      <td>NaN</td>\n",
              "      <td>NaN</td>\n",
              "      <td>NaN</td>\n",
              "      <td>[9.31069705723436, -75.3841901171426]</td>\n",
              "    </tr>\n",
              "    <tr>\n",
              "      <th>1</th>\n",
              "      <td>1684511</td>\n",
              "      <td>2019-06-15</td>\n",
              "      <td>Confirmada</td>\n",
              "      <td>SC</td>\n",
              "      <td>1024</td>\n",
              "      <td>TORRES DE MARILUZ</td>\n",
              "      <td>NaN</td>\n",
              "      <td>NaN</td>\n",
              "      <td>Mariluz  III</td>\n",
              "      <td>None</td>\n",
              "      <td>NaN</td>\n",
              "      <td>NaN</td>\n",
              "      <td>NaN</td>\n",
              "      <td>NaN</td>\n",
              "      <td>[1.21837000000005, -77.29234999999994]</td>\n",
              "    </tr>\n",
              "    <tr>\n",
              "      <th>2</th>\n",
              "      <td>1684513</td>\n",
              "      <td>2019-06-15</td>\n",
              "      <td>Confirmada fuera de tiempo</td>\n",
              "      <td>SC</td>\n",
              "      <td>7293074</td>\n",
              "      <td>miravalle</td>\n",
              "      <td>NaN</td>\n",
              "      <td>NaN</td>\n",
              "      <td>None</td>\n",
              "      <td>None</td>\n",
              "      <td>NaN</td>\n",
              "      <td>NaN</td>\n",
              "      <td>NaN</td>\n",
              "      <td>NaN</td>\n",
              "      <td>[1.2266500000000633, -77.29156999999998]</td>\n",
              "    </tr>\n",
              "    <tr>\n",
              "      <th>3</th>\n",
              "      <td>1684520</td>\n",
              "      <td>2019-06-15</td>\n",
              "      <td>Confirmada fuera de tiempo</td>\n",
              "      <td>SC</td>\n",
              "      <td>3013488266</td>\n",
              "      <td>Carrera 24  13 54 santiago</td>\n",
              "      <td>NaN</td>\n",
              "      <td>NaN</td>\n",
              "      <td>None</td>\n",
              "      <td>None</td>\n",
              "      <td>NaN</td>\n",
              "      <td>NaN</td>\n",
              "      <td>NaN</td>\n",
              "      <td>NaN</td>\n",
              "      <td>[1.2122547228779377, -77.28237365603391]</td>\n",
              "    </tr>\n",
              "    <tr>\n",
              "      <th>4</th>\n",
              "      <td>1684525</td>\n",
              "      <td>2019-06-15</td>\n",
              "      <td>Confirmada fuera de tiempo</td>\n",
              "      <td>SC</td>\n",
              "      <td>1011</td>\n",
              "      <td>KR 35  19 10 HABITAR VERSALLES</td>\n",
              "      <td>NaN</td>\n",
              "      <td>NaN</td>\n",
              "      <td>Versalles</td>\n",
              "      <td>None</td>\n",
              "      <td>NaN</td>\n",
              "      <td>NaN</td>\n",
              "      <td>NaN</td>\n",
              "      <td>NaN</td>\n",
              "      <td>[1.2247703317698757, -77.2827916981643]</td>\n",
              "    </tr>\n",
              "    <tr>\n",
              "      <th>...</th>\n",
              "      <td>...</td>\n",
              "      <td>...</td>\n",
              "      <td>...</td>\n",
              "      <td>...</td>\n",
              "      <td>...</td>\n",
              "      <td>...</td>\n",
              "      <td>...</td>\n",
              "      <td>...</td>\n",
              "      <td>...</td>\n",
              "      <td>...</td>\n",
              "      <td>...</td>\n",
              "      <td>...</td>\n",
              "      <td>...</td>\n",
              "      <td>...</td>\n",
              "      <td>...</td>\n",
              "    </tr>\n",
              "    <tr>\n",
              "      <th>238</th>\n",
              "      <td>1685280</td>\n",
              "      <td>2019-06-15</td>\n",
              "      <td>Confirmada fuera de tiempo</td>\n",
              "      <td>SC</td>\n",
              "      <td>1024</td>\n",
              "      <td>TORRES DE MARILUZ</td>\n",
              "      <td>NaN</td>\n",
              "      <td>NaN</td>\n",
              "      <td>Mariluz  III</td>\n",
              "      <td>None</td>\n",
              "      <td>NaN</td>\n",
              "      <td>NaN</td>\n",
              "      <td>NaN</td>\n",
              "      <td>NaN</td>\n",
              "      <td>[1.21837000000005, -77.29234999999994]</td>\n",
              "    </tr>\n",
              "    <tr>\n",
              "      <th>239</th>\n",
              "      <td>1685284</td>\n",
              "      <td>2019-06-15</td>\n",
              "      <td>Confirmada fuera de tiempo</td>\n",
              "      <td>SC</td>\n",
              "      <td>1032</td>\n",
              "      <td>COND. SAT MONIKA</td>\n",
              "      <td>NaN</td>\n",
              "      <td>NaN</td>\n",
              "      <td>None</td>\n",
              "      <td>None</td>\n",
              "      <td>NaN</td>\n",
              "      <td>NaN</td>\n",
              "      <td>NaN</td>\n",
              "      <td>NaN</td>\n",
              "      <td>[1.2031900000000633, -77.25577999999996]</td>\n",
              "    </tr>\n",
              "    <tr>\n",
              "      <th>240</th>\n",
              "      <td>1685291</td>\n",
              "      <td>2019-06-15</td>\n",
              "      <td>Confirmada</td>\n",
              "      <td>SC</td>\n",
              "      <td>7298421</td>\n",
              "      <td>castillos del norte</td>\n",
              "      <td>NaN</td>\n",
              "      <td>NaN</td>\n",
              "      <td>None</td>\n",
              "      <td>None</td>\n",
              "      <td>NaN</td>\n",
              "      <td>NaN</td>\n",
              "      <td>NaN</td>\n",
              "      <td>NaN</td>\n",
              "      <td>[1.2110300000000507, -77.29070999999993]</td>\n",
              "    </tr>\n",
              "    <tr>\n",
              "      <th>241</th>\n",
              "      <td>1685294</td>\n",
              "      <td>2019-06-15</td>\n",
              "      <td>Confirmada fuera de tiempo</td>\n",
              "      <td>SC</td>\n",
              "      <td>1024</td>\n",
              "      <td>TORRES DE MARILUZ</td>\n",
              "      <td>NaN</td>\n",
              "      <td>NaN</td>\n",
              "      <td>Mariluz  III</td>\n",
              "      <td>None</td>\n",
              "      <td>NaN</td>\n",
              "      <td>NaN</td>\n",
              "      <td>NaN</td>\n",
              "      <td>NaN</td>\n",
              "      <td>[1.21837000000005, -77.29234999999994]</td>\n",
              "    </tr>\n",
              "    <tr>\n",
              "      <th>242</th>\n",
              "      <td>1685297</td>\n",
              "      <td>2019-06-15</td>\n",
              "      <td>Confirmada fuera de tiempo</td>\n",
              "      <td>SC</td>\n",
              "      <td>1508</td>\n",
              "      <td>TORRE ANDINA</td>\n",
              "      <td>NaN</td>\n",
              "      <td>NaN</td>\n",
              "      <td>Avenida Boyaca</td>\n",
              "      <td>None</td>\n",
              "      <td>NaN</td>\n",
              "      <td>NaN</td>\n",
              "      <td>NaN</td>\n",
              "      <td>NaN</td>\n",
              "      <td>[1.2230300000000511, -77.28595999999999]</td>\n",
              "    </tr>\n",
              "  </tbody>\n",
              "</table>\n",
              "<p>243 rows × 15 columns</p>\n",
              "</div>"
            ],
            "text/plain": [
              "          id      fecha  ... coord_lon                                     coord\n",
              "0    1684494 2019-06-15  ...       NaN     [9.31069705723436, -75.3841901171426]\n",
              "1    1684511 2019-06-15  ...       NaN    [1.21837000000005, -77.29234999999994]\n",
              "2    1684513 2019-06-15  ...       NaN  [1.2266500000000633, -77.29156999999998]\n",
              "3    1684520 2019-06-15  ...       NaN  [1.2122547228779377, -77.28237365603391]\n",
              "4    1684525 2019-06-15  ...       NaN   [1.2247703317698757, -77.2827916981643]\n",
              "..       ...        ...  ...       ...                                       ...\n",
              "238  1685280 2019-06-15  ...       NaN    [1.21837000000005, -77.29234999999994]\n",
              "239  1685284 2019-06-15  ...       NaN  [1.2031900000000633, -77.25577999999996]\n",
              "240  1685291 2019-06-15  ...       NaN  [1.2110300000000507, -77.29070999999993]\n",
              "241  1685294 2019-06-15  ...       NaN    [1.21837000000005, -77.29234999999994]\n",
              "242  1685297 2019-06-15  ...       NaN  [1.2230300000000511, -77.28595999999999]\n",
              "\n",
              "[243 rows x 15 columns]"
            ]
          },
          "metadata": {
            "tags": []
          },
          "execution_count": 42
        }
      ]
    },
    {
      "cell_type": "code",
      "metadata": {
        "id": "IbmHLuC_qBGh",
        "outputId": "355d3e47-6e7d-4c84-9f3f-e57e5deea9d9",
        "colab": {
          "base_uri": "https://localhost:8080/",
          "height": 589
        }
      },
      "source": [
        "df_taxisrcp[df_taxisrcp.lat.notnull()]"
      ],
      "execution_count": 38,
      "outputs": [
        {
          "output_type": "execute_result",
          "data": {
            "text/html": [
              "<div>\n",
              "<style scoped>\n",
              "    .dataframe tbody tr th:only-of-type {\n",
              "        vertical-align: middle;\n",
              "    }\n",
              "\n",
              "    .dataframe tbody tr th {\n",
              "        vertical-align: top;\n",
              "    }\n",
              "\n",
              "    .dataframe thead th {\n",
              "        text-align: right;\n",
              "    }\n",
              "</style>\n",
              "<table border=\"1\" class=\"dataframe\">\n",
              "  <thead>\n",
              "    <tr style=\"text-align: right;\">\n",
              "      <th></th>\n",
              "      <th>id</th>\n",
              "      <th>fecha</th>\n",
              "      <th>estado</th>\n",
              "      <th>tipo_servicio</th>\n",
              "      <th>directorio</th>\n",
              "      <th>direccion</th>\n",
              "      <th>latitud</th>\n",
              "      <th>longitud</th>\n",
              "      <th>barrio</th>\n",
              "      <th>nombres</th>\n",
              "      <th>genero</th>\n",
              "      <th>latlon</th>\n",
              "      <th>lat</th>\n",
              "      <th>lon</th>\n",
              "    </tr>\n",
              "  </thead>\n",
              "  <tbody>\n",
              "    <tr>\n",
              "      <th>1</th>\n",
              "      <td>1684511</td>\n",
              "      <td>2019-06-15</td>\n",
              "      <td>Confirmada</td>\n",
              "      <td>SC</td>\n",
              "      <td>1024</td>\n",
              "      <td>TORRES DE MARILUZ</td>\n",
              "      <td>NaN</td>\n",
              "      <td>NaN</td>\n",
              "      <td>Mariluz  III</td>\n",
              "      <td>None</td>\n",
              "      <td>NaN</td>\n",
              "      <td>NaN</td>\n",
              "      <td>1.218370</td>\n",
              "      <td>-77.292350</td>\n",
              "    </tr>\n",
              "    <tr>\n",
              "      <th>2</th>\n",
              "      <td>1684513</td>\n",
              "      <td>2019-06-15</td>\n",
              "      <td>Confirmada fuera de tiempo</td>\n",
              "      <td>SC</td>\n",
              "      <td>7293074</td>\n",
              "      <td>miravalle</td>\n",
              "      <td>NaN</td>\n",
              "      <td>NaN</td>\n",
              "      <td>None</td>\n",
              "      <td>None</td>\n",
              "      <td>NaN</td>\n",
              "      <td>NaN</td>\n",
              "      <td>1.226650</td>\n",
              "      <td>-77.291570</td>\n",
              "    </tr>\n",
              "    <tr>\n",
              "      <th>3</th>\n",
              "      <td>1684520</td>\n",
              "      <td>2019-06-15</td>\n",
              "      <td>Confirmada fuera de tiempo</td>\n",
              "      <td>SC</td>\n",
              "      <td>3013488266</td>\n",
              "      <td>Carrera 24  13 54 santiago</td>\n",
              "      <td>NaN</td>\n",
              "      <td>NaN</td>\n",
              "      <td>None</td>\n",
              "      <td>None</td>\n",
              "      <td>NaN</td>\n",
              "      <td>NaN</td>\n",
              "      <td>1.212255</td>\n",
              "      <td>-77.282374</td>\n",
              "    </tr>\n",
              "    <tr>\n",
              "      <th>4</th>\n",
              "      <td>1684525</td>\n",
              "      <td>2019-06-15</td>\n",
              "      <td>Confirmada fuera de tiempo</td>\n",
              "      <td>SC</td>\n",
              "      <td>1011</td>\n",
              "      <td>KR 35  19 10 HABITAR VERSALLES</td>\n",
              "      <td>NaN</td>\n",
              "      <td>NaN</td>\n",
              "      <td>Versalles</td>\n",
              "      <td>None</td>\n",
              "      <td>NaN</td>\n",
              "      <td>NaN</td>\n",
              "      <td>1.224770</td>\n",
              "      <td>-77.282792</td>\n",
              "    </tr>\n",
              "    <tr>\n",
              "      <th>5</th>\n",
              "      <td>1684528</td>\n",
              "      <td>2019-06-15</td>\n",
              "      <td>Confirmada fuera de tiempo</td>\n",
              "      <td>SC</td>\n",
              "      <td>1020</td>\n",
              "      <td>Los Andes</td>\n",
              "      <td>NaN</td>\n",
              "      <td>NaN</td>\n",
              "      <td>Los Andes</td>\n",
              "      <td>None</td>\n",
              "      <td>NaN</td>\n",
              "      <td>NaN</td>\n",
              "      <td>1.212840</td>\n",
              "      <td>-77.293790</td>\n",
              "    </tr>\n",
              "    <tr>\n",
              "      <th>...</th>\n",
              "      <td>...</td>\n",
              "      <td>...</td>\n",
              "      <td>...</td>\n",
              "      <td>...</td>\n",
              "      <td>...</td>\n",
              "      <td>...</td>\n",
              "      <td>...</td>\n",
              "      <td>...</td>\n",
              "      <td>...</td>\n",
              "      <td>...</td>\n",
              "      <td>...</td>\n",
              "      <td>...</td>\n",
              "      <td>...</td>\n",
              "      <td>...</td>\n",
              "    </tr>\n",
              "    <tr>\n",
              "      <th>95</th>\n",
              "      <td>1684877</td>\n",
              "      <td>2019-06-15</td>\n",
              "      <td>Confirmada fuera de tiempo</td>\n",
              "      <td>SC</td>\n",
              "      <td>1399</td>\n",
              "      <td>Ciudad Jardin</td>\n",
              "      <td>NaN</td>\n",
              "      <td>NaN</td>\n",
              "      <td>Ciudad Jardin</td>\n",
              "      <td>None</td>\n",
              "      <td>NaN</td>\n",
              "      <td>NaN</td>\n",
              "      <td>1.200090</td>\n",
              "      <td>-77.280180</td>\n",
              "    </tr>\n",
              "    <tr>\n",
              "      <th>96</th>\n",
              "      <td>1684879</td>\n",
              "      <td>2019-06-15</td>\n",
              "      <td>Confirmada fuera de tiempo</td>\n",
              "      <td>SC</td>\n",
              "      <td>7228922</td>\n",
              "      <td>Calle 18 B # 42 - 45 JARDÍN DE ATRIZ</td>\n",
              "      <td>1.227194</td>\n",
              "      <td>-77.287422</td>\n",
              "      <td>Valle De Atriz</td>\n",
              "      <td>None</td>\n",
              "      <td>NaN</td>\n",
              "      <td>NaN</td>\n",
              "      <td>1.228462</td>\n",
              "      <td>-77.286038</td>\n",
              "    </tr>\n",
              "    <tr>\n",
              "      <th>97</th>\n",
              "      <td>1684881</td>\n",
              "      <td>2019-06-15</td>\n",
              "      <td>Confirmada fuera de tiempo</td>\n",
              "      <td>SC</td>\n",
              "      <td>3188120362</td>\n",
              "      <td>Manzana Q cs 6 gualcaloma</td>\n",
              "      <td>NaN</td>\n",
              "      <td>NaN</td>\n",
              "      <td>None</td>\n",
              "      <td>None</td>\n",
              "      <td>NaN</td>\n",
              "      <td>NaN</td>\n",
              "      <td>1.218235</td>\n",
              "      <td>-77.294256</td>\n",
              "    </tr>\n",
              "    <tr>\n",
              "      <th>98</th>\n",
              "      <td>1684883</td>\n",
              "      <td>2019-06-15</td>\n",
              "      <td>Confirmada fuera de tiempo</td>\n",
              "      <td>SC</td>\n",
              "      <td>4701</td>\n",
              "      <td>bosques colina . vigia</td>\n",
              "      <td>NaN</td>\n",
              "      <td>NaN</td>\n",
              "      <td>None</td>\n",
              "      <td>None</td>\n",
              "      <td>NaN</td>\n",
              "      <td>NaN</td>\n",
              "      <td>1.226330</td>\n",
              "      <td>-77.288330</td>\n",
              "    </tr>\n",
              "    <tr>\n",
              "      <th>99</th>\n",
              "      <td>1684892</td>\n",
              "      <td>2019-06-15</td>\n",
              "      <td>Generada</td>\n",
              "      <td>SC</td>\n",
              "      <td>1508</td>\n",
              "      <td>TORRE ANDINA</td>\n",
              "      <td>NaN</td>\n",
              "      <td>NaN</td>\n",
              "      <td>Avenida Boyaca</td>\n",
              "      <td>None</td>\n",
              "      <td>NaN</td>\n",
              "      <td>NaN</td>\n",
              "      <td>1.223030</td>\n",
              "      <td>-77.285960</td>\n",
              "    </tr>\n",
              "  </tbody>\n",
              "</table>\n",
              "<p>99 rows × 14 columns</p>\n",
              "</div>"
            ],
            "text/plain": [
              "         id      fecha                      estado  ... latlon       lat        lon\n",
              "1   1684511 2019-06-15                  Confirmada  ...    NaN  1.218370 -77.292350\n",
              "2   1684513 2019-06-15  Confirmada fuera de tiempo  ...    NaN  1.226650 -77.291570\n",
              "3   1684520 2019-06-15  Confirmada fuera de tiempo  ...    NaN  1.212255 -77.282374\n",
              "4   1684525 2019-06-15  Confirmada fuera de tiempo  ...    NaN  1.224770 -77.282792\n",
              "5   1684528 2019-06-15  Confirmada fuera de tiempo  ...    NaN  1.212840 -77.293790\n",
              "..      ...        ...                         ...  ...    ...       ...        ...\n",
              "95  1684877 2019-06-15  Confirmada fuera de tiempo  ...    NaN  1.200090 -77.280180\n",
              "96  1684879 2019-06-15  Confirmada fuera de tiempo  ...    NaN  1.228462 -77.286038\n",
              "97  1684881 2019-06-15  Confirmada fuera de tiempo  ...    NaN  1.218235 -77.294256\n",
              "98  1684883 2019-06-15  Confirmada fuera de tiempo  ...    NaN  1.226330 -77.288330\n",
              "99  1684892 2019-06-15                    Generada  ...    NaN  1.223030 -77.285960\n",
              "\n",
              "[99 rows x 14 columns]"
            ]
          },
          "metadata": {
            "tags": []
          },
          "execution_count": 38
        }
      ]
    },
    {
      "cell_type": "code",
      "metadata": {
        "id": "6h2tuUbC7Q_W",
        "outputId": "0444be6a-f653-490e-d3d8-f9bf8ade6182",
        "colab": {
          "base_uri": "https://localhost:8080/",
          "height": 34
        }
      },
      "source": [
        "from google.colab import drive\n",
        "drive.mount('/content/drive')"
      ],
      "execution_count": 22,
      "outputs": [
        {
          "output_type": "stream",
          "text": [
            "Drive already mounted at /content/drive; to attempt to forcibly remount, call drive.mount(\"/content/drive\", force_remount=True).\n"
          ],
          "name": "stdout"
        }
      ]
    },
    {
      "cell_type": "code",
      "metadata": {
        "id": "7K8j0kqB6xI8"
      },
      "source": [
        "# Function to create a Geodataframe. This code was taken from Geospatial-Data-Science-Quick-Start-Guide book\n",
        "def create_gdf(df, lat, lon):\n",
        "  \"\"\" Convert pandas dataframe into a Geopandas GeoDataFrame\"\"\"\n",
        "  crs = {'init': 'epsg:4326'}\n",
        "  geometry = [Point(xy) for xy in zip(df[lon], df[lat])]\n",
        "  gdf = gpd.GeoDataFrame(df, crs=crs, geometry=geometry)\n",
        "  return gdf\n"
      ],
      "execution_count": 23,
      "outputs": []
    },
    {
      "cell_type": "code",
      "metadata": {
        "id": "GuMp4f7L67mo",
        "outputId": "d57940e6-da90-4c8d-cd1e-e89b664c86d4",
        "colab": {
          "base_uri": "https://localhost:8080/",
          "height": 343
        }
      },
      "source": [
        "taxi_gdf = create_gdf(df_latlon, 'latitud', 'longitud')\n",
        "taxi_gdf.head()"
      ],
      "execution_count": 24,
      "outputs": [
        {
          "output_type": "stream",
          "text": [
            "/usr/local/lib/python3.6/dist-packages/pyproj/crs/crs.py:53: FutureWarning: '+init=<authority>:<code>' syntax is deprecated. '<authority>:<code>' is the preferred initialization method. When making the change, be mindful of axis order changes: https://pyproj4.github.io/pyproj/stable/gotchas.html#axis-order-changes-in-proj-6\n",
            "  return _prepare_from_string(\" \".join(pjargs))\n"
          ],
          "name": "stderr"
        },
        {
          "output_type": "execute_result",
          "data": {
            "text/html": [
              "<div>\n",
              "<style scoped>\n",
              "    .dataframe tbody tr th:only-of-type {\n",
              "        vertical-align: middle;\n",
              "    }\n",
              "\n",
              "    .dataframe tbody tr th {\n",
              "        vertical-align: top;\n",
              "    }\n",
              "\n",
              "    .dataframe thead th {\n",
              "        text-align: right;\n",
              "    }\n",
              "</style>\n",
              "<table border=\"1\" class=\"dataframe\">\n",
              "  <thead>\n",
              "    <tr style=\"text-align: right;\">\n",
              "      <th></th>\n",
              "      <th>id</th>\n",
              "      <th>fecha</th>\n",
              "      <th>estado</th>\n",
              "      <th>tipo_servicio</th>\n",
              "      <th>directorio</th>\n",
              "      <th>direccion</th>\n",
              "      <th>latitud</th>\n",
              "      <th>longitud</th>\n",
              "      <th>barrio</th>\n",
              "      <th>nombres</th>\n",
              "      <th>genero</th>\n",
              "      <th>geometry</th>\n",
              "    </tr>\n",
              "  </thead>\n",
              "  <tbody>\n",
              "    <tr>\n",
              "      <th>0</th>\n",
              "      <td>1684494</td>\n",
              "      <td>2019-06-15</td>\n",
              "      <td>Confirmada fuera de tiempo</td>\n",
              "      <td>SC</td>\n",
              "      <td>1342</td>\n",
              "      <td>Calle 16 # 37 - 47 Las Margaritas</td>\n",
              "      <td>1.220376</td>\n",
              "      <td>-77.286333</td>\n",
              "      <td>Las Margaritas</td>\n",
              "      <td>None</td>\n",
              "      <td>NaN</td>\n",
              "      <td>POINT (-77.28633 1.22038)</td>\n",
              "    </tr>\n",
              "    <tr>\n",
              "      <th>13</th>\n",
              "      <td>1684554</td>\n",
              "      <td>2019-06-15</td>\n",
              "      <td>Confirmada fuera de tiempo</td>\n",
              "      <td>SC</td>\n",
              "      <td>7367325</td>\n",
              "      <td>Carrera 35 # 16 B - ED. ARADAS</td>\n",
              "      <td>1.216537</td>\n",
              "      <td>-77.291056</td>\n",
              "      <td>Parana</td>\n",
              "      <td>None</td>\n",
              "      <td>NaN</td>\n",
              "      <td>POINT (-77.29106 1.21654)</td>\n",
              "    </tr>\n",
              "    <tr>\n",
              "      <th>16</th>\n",
              "      <td>1684557</td>\n",
              "      <td>2019-06-15</td>\n",
              "      <td>Confirmada fuera de tiempo</td>\n",
              "      <td>SC</td>\n",
              "      <td>3174131309</td>\n",
              "      <td>Manzana i cs 12b La Lomita</td>\n",
              "      <td>1.207778</td>\n",
              "      <td>-77.277222</td>\n",
              "      <td>La Lomita</td>\n",
              "      <td>None</td>\n",
              "      <td>NaN</td>\n",
              "      <td>POINT (-77.27722 1.20778)</td>\n",
              "    </tr>\n",
              "    <tr>\n",
              "      <th>20</th>\n",
              "      <td>1684566</td>\n",
              "      <td>2019-06-15</td>\n",
              "      <td>Confirmada fuera de tiempo</td>\n",
              "      <td>SC</td>\n",
              "      <td>39</td>\n",
              "      <td>Carrera 39 # 19 - 29 MURANO 39</td>\n",
              "      <td>1.198642</td>\n",
              "      <td>-77.276898</td>\n",
              "      <td>Palermo</td>\n",
              "      <td>None</td>\n",
              "      <td>NaN</td>\n",
              "      <td>POINT (-77.27690 1.19864)</td>\n",
              "    </tr>\n",
              "    <tr>\n",
              "      <th>25</th>\n",
              "      <td>1684578</td>\n",
              "      <td>2019-06-15</td>\n",
              "      <td>Confirmada fuera de tiempo</td>\n",
              "      <td>SC</td>\n",
              "      <td>388</td>\n",
              "      <td>Calle 9 # 40 - 04 ED ATURES</td>\n",
              "      <td>1.201020</td>\n",
              "      <td>-77.279882</td>\n",
              "      <td>Mariluz  III</td>\n",
              "      <td>None</td>\n",
              "      <td>NaN</td>\n",
              "      <td>POINT (-77.27988 1.20102)</td>\n",
              "    </tr>\n",
              "  </tbody>\n",
              "</table>\n",
              "</div>"
            ],
            "text/plain": [
              "         id      fecha  ... genero                   geometry\n",
              "0   1684494 2019-06-15  ...    NaN  POINT (-77.28633 1.22038)\n",
              "13  1684554 2019-06-15  ...    NaN  POINT (-77.29106 1.21654)\n",
              "16  1684557 2019-06-15  ...    NaN  POINT (-77.27722 1.20778)\n",
              "20  1684566 2019-06-15  ...    NaN  POINT (-77.27690 1.19864)\n",
              "25  1684578 2019-06-15  ...    NaN  POINT (-77.27988 1.20102)\n",
              "\n",
              "[5 rows x 12 columns]"
            ]
          },
          "metadata": {
            "tags": []
          },
          "execution_count": 24
        }
      ]
    },
    {
      "cell_type": "code",
      "metadata": {
        "id": "gzxaPytE7YJ-",
        "outputId": "43a34d14-0bc5-4f8c-8047-b3c9dfb233d3",
        "colab": {
          "base_uri": "https://localhost:8080/",
          "height": 80
        }
      },
      "source": [
        "fname = '/content/drive/My Drive/Colab Notebooks/pasto.geojson' # Your filepath here\n",
        "polyPasto = gpd.read_file(fname)\n",
        "polyPasto.set_crs(epsg=4326, inplace=True)\n",
        "polyPasto.head()"
      ],
      "execution_count": 25,
      "outputs": [
        {
          "output_type": "execute_result",
          "data": {
            "text/html": [
              "<div>\n",
              "<style scoped>\n",
              "    .dataframe tbody tr th:only-of-type {\n",
              "        vertical-align: middle;\n",
              "    }\n",
              "\n",
              "    .dataframe tbody tr th {\n",
              "        vertical-align: top;\n",
              "    }\n",
              "\n",
              "    .dataframe thead th {\n",
              "        text-align: right;\n",
              "    }\n",
              "</style>\n",
              "<table border=\"1\" class=\"dataframe\">\n",
              "  <thead>\n",
              "    <tr style=\"text-align: right;\">\n",
              "      <th></th>\n",
              "      <th>geometry</th>\n",
              "    </tr>\n",
              "  </thead>\n",
              "  <tbody>\n",
              "    <tr>\n",
              "      <th>0</th>\n",
              "      <td>GEOMETRYCOLLECTION (MULTIPOLYGON (((-77.36573 ...</td>\n",
              "    </tr>\n",
              "  </tbody>\n",
              "</table>\n",
              "</div>"
            ],
            "text/plain": [
              "                                            geometry\n",
              "0  GEOMETRYCOLLECTION (MULTIPOLYGON (((-77.36573 ..."
            ]
          },
          "metadata": {
            "tags": []
          },
          "execution_count": 25
        }
      ]
    },
    {
      "cell_type": "code",
      "metadata": {
        "id": "RcUNe_586mzY",
        "outputId": "4e048121-45bb-43c1-d346-ba700debea09",
        "colab": {
          "base_uri": "https://localhost:8080/",
          "height": 71
        }
      },
      "source": [
        "from geopandas.tools import sjoin\n",
        "\n",
        "pointInPolyPasto = sjoin(taxi_gdf,polyPasto, how='inner')\n",
        "pointInPolyPasto.head()"
      ],
      "execution_count": null,
      "outputs": [
        {
          "output_type": "stream",
          "text": [
            "/usr/local/lib/python3.6/dist-packages/pyproj/crs/crs.py:53: FutureWarning: '+init=<authority>:<code>' syntax is deprecated. '<authority>:<code>' is the preferred initialization method. When making the change, be mindful of axis order changes: https://pyproj4.github.io/pyproj/stable/gotchas.html#axis-order-changes-in-proj-6\n",
            "  return _prepare_from_string(\" \".join(pjargs))\n"
          ],
          "name": "stderr"
        }
      ]
    },
    {
      "cell_type": "code",
      "metadata": {
        "id": "ftJVuMVK8F2j",
        "outputId": "6a5e80b4-03c8-47ff-e14a-67b766a3939d",
        "colab": {
          "base_uri": "https://localhost:8080/",
          "height": 808
        }
      },
      "source": [
        "mydf = df_taxisrcp[df_taxisrcp.lat.notnull()].copy()\n",
        "pasto_latitude, pasto_longitude = 1.21361,-77.28111\n",
        "\n",
        "# define the world map centered around pasto COlombia with a higher zoom level width=550,height=550,\n",
        "pasto_map = folium.Map(location=[pasto_latitude, pasto_longitude], zoom_start=8)\n",
        "\n",
        "def plotMarket(point):\n",
        "  icon_taxi = plugins.BeautifyIcon(\n",
        "    icon='taxi',\n",
        "    border_color='#b3334f',\n",
        "    text_color='#b3334f',icon_shape= 'marker')\n",
        "\n",
        "  folium.Marker(\n",
        "      location=[point.lat, point.lon],\n",
        "      popup=point.direccion,icon=icon_taxi\n",
        "  ).add_to(pasto_map)\n",
        "\n",
        "mydf.apply(plotMarket, axis = 1)\n",
        "# display world map\n",
        "pasto_map"
      ],
      "execution_count": 39,
      "outputs": [
        {
          "output_type": "execute_result",
          "data": {
            "text/html": [
              "<div style=\"width:100%;\"><div style=\"position:relative;width:100%;height:0;padding-bottom:60%;\"><span style=\"color:#565656\">Make this Notebook Trusted to load map: File -> Trust Notebook</span><iframe src=\"about:blank\" style=\"position:absolute;width:100%;height:100%;left:0;top:0;border:none !important;\" data-html=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 onload=\"this.contentDocument.open();this.contentDocument.write(atob(this.getAttribute('data-html')));this.contentDocument.close();\" allowfullscreen webkitallowfullscreen mozallowfullscreen></iframe></div></div>"
            ],
            "text/plain": [
              "<folium.folium.Map at 0x7f47d69ea9b0>"
            ]
          },
          "metadata": {
            "tags": []
          },
          "execution_count": 39
        }
      ]
    },
    {
      "cell_type": "code",
      "metadata": {
        "id": "QyYA7HQ5wFCt"
      },
      "source": [
        "from folium.plugins import HeatMap\n",
        "import sys\n",
        "sys.setrecursionlimit(100000) \n",
        "\n",
        "hp = folium.Map(location=[pasto_latitude, pasto_longitude], tiles='cartodbpositron', zoom_start=12)\n",
        "\n",
        "# Add a heatmap to the base map\n",
        "HeatMap(data=mydf[['lat', 'lon']], radius=10).add_to(hp)\n",
        "\n",
        "# Display the map\n",
        "hp"
      ],
      "execution_count": null,
      "outputs": []
    }
  ]
}